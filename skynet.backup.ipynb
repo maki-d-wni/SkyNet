{
 "cells": [
  {
   "cell_type": "code",
   "execution_count": 78,
   "metadata": {},
   "outputs": [],
   "source": [
    "% matplotlib notebook\n",
    "import numpy as np\n",
    "import pandas as pd\n",
    "import skynet.nwp2d as npd\n",
    "import matplotlib.pyplot as plt\n",
    "from mpl_toolkits.mplot3d import Axes3D\n",
    "from IPython.core.interactiveshell import InteractiveShell\n",
    "from IPython.display import display\n",
    "\n",
    "InteractiveShell.ast_node_interactivity = 'all'\n"
   ]
  },
  {
   "cell_type": "markdown",
   "metadata": {},
   "source": [
    "後で楽なように適当に処理をまとめておく"
   ]
  },
  {
   "cell_type": "code",
   "execution_count": 2,
   "metadata": {},
   "outputs": [],
   "source": [
    "import re\n",
    "import copy\n",
    "from sklearn.preprocessing import StandardScaler\n",
    "from sklearn.metrics import accuracy_score\n",
    "from skynet.mlcore.feature_selection.filter import pearson_correlation\n",
    "\n",
    "ss = StandardScaler()\n",
    "\n",
    "\n",
    "class LearningOperator(object):\n",
    "    def __init__(self, model, X_train: pd.DataFrame, y_train, X_test: pd.DataFrame, y_test):\n",
    "        self.__model = model\n",
    "        self.__X_train = X_train\n",
    "        self.__y_train = y_train\n",
    "        self.__X_test = X_test\n",
    "        self.__y_test = y_test\n",
    "\n",
    "        self.__init_model = copy.deepcopy(model)\n",
    "        self.__init_X_train = copy.deepcopy(X_train)\n",
    "        self.__init_y_train = copy.deepcopy(y_train)\n",
    "        self.__init_X_test = copy.deepcopy(X_test)\n",
    "        self.__init_y_test = copy.deepcopy(y_test)\n",
    "\n",
    "        self.X_train_norm = pd.DataFrame(\n",
    "            ss.fit_transform(self.X_train.values),\n",
    "            columns=self.X_train.keys()\n",
    "        )\n",
    "\n",
    "        self.X_test_norm = pd.DataFrame(\n",
    "            ss.fit_transform(self.X_test.values),\n",
    "            columns=self.X_test.keys()\n",
    "        )\n",
    "\n",
    "        self.y_pred_ = None\n",
    "        self.accuracy_ = None\n",
    "        self.f1_ = None\n",
    "\n",
    "    @property\n",
    "    def init_model(self):\n",
    "        return self.__init_model\n",
    "\n",
    "    @property\n",
    "    def model(self):\n",
    "        return self.__model\n",
    "\n",
    "    @model.setter\n",
    "    def model(self, model):\n",
    "        self.__model = model\n",
    "\n",
    "    @property\n",
    "    def X_train(self):\n",
    "        return self.__X_train\n",
    "\n",
    "    @X_train.setter\n",
    "    def X_train(self, X_train):\n",
    "        self.__X_train = X_train\n",
    "\n",
    "    @property\n",
    "    def y_train(self):\n",
    "        return self.__y_train\n",
    "\n",
    "    @property\n",
    "    def X_test(self):\n",
    "        return self.__X_test\n",
    "\n",
    "    @X_test.setter\n",
    "    def X_test(self, X_test):\n",
    "        self.__X_test = X_test\n",
    "\n",
    "    @property\n",
    "    def y_test(self):\n",
    "        return self.__y_test\n",
    "\n",
    "    @property\n",
    "    def init_X_train(self):\n",
    "        return self.__init_X_train\n",
    "\n",
    "    @property\n",
    "    def init_y_train(self):\n",
    "        return self.__init_y_train\n",
    "\n",
    "    @property\n",
    "    def init_X_test(self):\n",
    "        return self.__init_X_test\n",
    "\n",
    "    @property\n",
    "    def init_y_test(self):\n",
    "        return self.__init_y_test\n",
    "\n",
    "    def set_learning_data(self, X_train: pd.DataFrame, y_train, X_test: pd.DataFrame, y_test):\n",
    "        self.__X_train = X_train\n",
    "        self.__y_train = y_train\n",
    "        self.__X_test = X_test\n",
    "        self.__y_test = y_test\n",
    "\n",
    "    def reset_model(self):\n",
    "        self.model = self.__init_model\n",
    "\n",
    "    def reset_learning_data(self):\n",
    "        self.__X_train = self.init_X_train\n",
    "        self.__y_train = self.init_y_train\n",
    "        self.__X_test = self.init_X_test\n",
    "        self.__y_test = self.init_y_test\n",
    "\n",
    "        self.X_train_norm = pd.DataFrame(\n",
    "            ss.fit_transform(self.__X_train.values),\n",
    "            columns=X_train.keys()\n",
    "        )\n",
    "\n",
    "        self.X_test_norm = pd.DataFrame(\n",
    "            ss.fit_transform(self.__X_test.values),\n",
    "            columns=X_test.keys()\n",
    "        )\n",
    "\n",
    "    def test_model_performance(self, show_accuracy=True, show_f1=True, show_conf_mat=True):\n",
    "        self.reset_model()\n",
    "        self.model.fit(self.X_train, self.y_train)\n",
    "        self.y_pred_ = self.model.predict(self.X_test)\n",
    "\n",
    "        self.accuracy_ = accuracy_score(self.y_test, self.y_pred_)\n",
    "        if show_accuracy:\n",
    "            print('Test Accuracy: %0.2f' % self.accuracy_)\n",
    "\n",
    "        self.f1_ = calc_f1(self.y_test, self.y_pred_)\n",
    "        if show_f1:\n",
    "            print('Test F value : %0.2f' % self.f1_)\n",
    "\n",
    "        cfm = conf_mat(self.y_test, self.y_pred_, steps=[0, 1])\n",
    "\n",
    "        if show_conf_mat:\n",
    "            display(cfm)\n",
    "\n",
    "    def convert_wind_dir(self):\n",
    "        azi_train = pd.DataFrame()\n",
    "        azi_test = pd.DataFrame()\n",
    "\n",
    "        wd_train = vecwd_to_stepwd(\n",
    "            self.__init_X_train['u-component of wind'],\n",
    "            self.__init_X_train['v-component of wind'],\n",
    "            norm=True\n",
    "        )\n",
    "\n",
    "        wd_test = vecwd_to_stepwd(\n",
    "            self.__init_X_test['u-component of wind'],\n",
    "            self.__init_X_test['v-component of wind'],\n",
    "            norm=True\n",
    "        )\n",
    "\n",
    "        azi_train['wind direction'] = wd_train\n",
    "        azi_test['wind direction'] = wd_test\n",
    "\n",
    "        hpas = np.unique([key[4:] for key in self.__init_X_train.keys() if re.match('\\D+\\d+', key)])\n",
    "        wd_keys = ['wndr%s' % hpa for hpa in hpas]\n",
    "\n",
    "        for hpa, key in zip(hpas, wd_keys):\n",
    "            wd_train = vecwd_to_stepwd(\n",
    "                self.__init_X_train['u-co%s' % hpa],\n",
    "                self.__init_X_train['v-co%s' % hpa],\n",
    "                norm=True\n",
    "            )\n",
    "            wd_test = vecwd_to_stepwd(\n",
    "                self.__init_X_test['u-co%s' % hpa],\n",
    "                self.__init_X_test['v-co%s' % hpa],\n",
    "                norm=True\n",
    "            )\n",
    "            azi_train[key] = wd_train\n",
    "            azi_test[key] = wd_test\n",
    "\n",
    "        u_co = [u for u in self.X_train.keys() if 'u-co' in u]\n",
    "        v_co = [v for v in self.X_train.keys() if 'v-co' in v]\n",
    "\n",
    "        self.X_train = self.X_train.drop(u_co, axis=1)\n",
    "        self.X_train = self.X_train.drop(v_co, axis=1)\n",
    "        self.X_test = self.X_test.drop(u_co, axis=1)\n",
    "        self.X_test = self.X_test.drop(v_co, axis=1)\n",
    "\n",
    "        wndr = [wd for wd in self.X_train.keys() if ('wndr' in wd) or ('wind direction' in wd)]\n",
    "        if not len(wndr):\n",
    "            self.X_train = pd.concat([self.X_train, azi_train], axis=1)\n",
    "            self.X_test = pd.concat([self.X_test, azi_test], axis=1)\n",
    "\n",
    "    def fwsearch(self, X_train, y_train, X_test, y_test, filter_method='corr'):\n",
    "        acc = np.zeros(len(X_train.keys()) - 1)\n",
    "        f1 = np.zeros(len(X_train.keys()) - 1)\n",
    "        for n in range(1, len(X_train.keys())):\n",
    "            if filter_method == 'corr':\n",
    "                selected_fets = pearson_correlation(\n",
    "                    X_train,\n",
    "                    y_train,\n",
    "                    depth=n\n",
    "                )\n",
    "            else:\n",
    "                selected_fets = []\n",
    "\n",
    "            self.set_learning_data(\n",
    "                X_train[selected_fets],\n",
    "                y_train,\n",
    "                X_test[selected_fets],\n",
    "                y_test\n",
    "            )\n",
    "\n",
    "            self.test_model_performance(show_accuracy=False, show_f1=False, show_conf_mat=False)\n",
    "            acc[n - 1] = self.accuracy_\n",
    "            f1[n - 1] = self.f1_\n",
    "\n",
    "        return acc, f1\n",
    "\n",
    "def conf_mat(y_true, y_pred, steps):\n",
    "    import numpy as np\n",
    "\n",
    "    rank = len(steps)\n",
    "    delta = np.diff(np.array(steps + [1000000]).astype(int))\n",
    "\n",
    "    t = np.zeros_like(y_true)\n",
    "    p = np.zeros_like(y_pred)\n",
    "\n",
    "    for i, d in enumerate(delta):\n",
    "        t[(y_true >= steps[i]) & (y_true < (steps[i] + d))] = i\n",
    "        p[(y_pred >= steps[i]) & (y_pred < (steps[i] + d))] = i\n",
    "\n",
    "    cfm = np.zeros((rank, rank))\n",
    "    for i in range(rank):\n",
    "        for j in range(rank):\n",
    "            cfm[i, j] = len(np.where((t == i) & (p == j))[0])\n",
    "\n",
    "    cfm = pd.DataFrame(\n",
    "        cfm.astype(int),\n",
    "        index=['Actual +', 'Actual -'],\n",
    "        columns=['Predicted +', 'Predicted -']\n",
    "    )\n",
    "\n",
    "    return cfm\n",
    "\n",
    "\n",
    "def calc_f1(y_true, y_pred):\n",
    "    import numpy as np\n",
    "    from sklearn.metrics import f1_score\n",
    "\n",
    "    y_true_bn = np.zeros_like(y_true)\n",
    "    y_true_bn[y_true < 1] = 1\n",
    "\n",
    "    y_pred_bn = np.zeros_like(y_pred)\n",
    "    y_pred_bn[y_pred < 1] = 1\n",
    "\n",
    "    f1 = f1_score(y_true_bn, y_pred_bn)\n",
    "\n",
    "    return f1\n",
    "\n",
    "def vecwd_to_stepwd(wu, wv, norm=False):\n",
    "    theta = np.arctan(wv / wu)\n",
    "    theta[(wu < 0) & (wv >= 0)] = theta[(wu < 0) & (wv >= 0)] + np.pi\n",
    "    theta[(wu >= 0) & (wv < 0)] = theta[(wu >= 0) & (wv < 0)] + 2 * np.pi\n",
    "    theta[(wu < 0) & (wv < 0)] = theta[(wu < 0) & (wv < 0)] + np.pi\n",
    "\n",
    "    deg = np.rad2deg(theta)\n",
    "\n",
    "    deg_range1 = np.arange(11.25, 337.5, 22.5)\n",
    "    deg_range2 = np.arange(33.75, 360, 22.5)\n",
    "\n",
    "    azi = np.zeros_like(theta)\n",
    "\n",
    "    '''\n",
    "    print(\n",
    "        'azimuth number : 0\\ndegree %.2f - %.2f and %.2f - %.2f \\n'\n",
    "        % (0, 11.25, 348.75, 360)\n",
    "    )\n",
    "    '''\n",
    "    for i in range(1, len(deg_range1) + 1):\n",
    "        th1 = deg_range1[i - 1]\n",
    "        th2 = deg_range2[i - 1]\n",
    "        # print('azimuth number : %d\\ndegree %.2f - %.2f\\n' % (i, th1, th2))\n",
    "        azi[(deg >= th1) & (deg < th2)] = i\n",
    "\n",
    "    if norm:\n",
    "        azi = (azi - azi.min()) / (azi.max() - azi.min())\n",
    "\n",
    "    return azi\n"
   ]
  },
  {
   "cell_type": "code",
   "execution_count": 3,
   "metadata": {},
   "outputs": [],
   "source": [
    "from skynet import DATA_DIR\n",
    "\n",
    "icao = 'RJCC'\n",
    "\n",
    "data_dir = '%s/ARC-common/fit_input/JMA_MSM/vis' % DATA_DIR\n",
    "model_dir = '%s/ARC-common/fit_output/JMA_MSM/vis' % DATA_DIR\n",
    "data_name = 'GLOBAL_METAR-%s.vis.csv' % icao\n",
    "model_name = 'GLOBAL_METAR-%s.vis.pkl' % icao\n"
   ]
  },
  {
   "cell_type": "code",
   "execution_count": 4,
   "metadata": {},
   "outputs": [],
   "source": [
    "import skynet.datasets as skyds\n",
    "\n",
    "train = skyds.read_csv('%s/%s' % (data_dir, data_name))\n"
   ]
  },
  {
   "cell_type": "markdown",
   "metadata": {},
   "source": [
    "説明変数と目的変数を分離"
   ]
  },
  {
   "cell_type": "code",
   "execution_count": 5,
   "metadata": {},
   "outputs": [
    {
     "name": "stdout",
     "output_type": "stream",
     "text": [
      "X :\n"
     ]
    },
    {
     "data": {
      "text/html": [
       "<div>\n",
       "<style scoped>\n",
       "    .dataframe tbody tr th:only-of-type {\n",
       "        vertical-align: middle;\n",
       "    }\n",
       "\n",
       "    .dataframe tbody tr th {\n",
       "        vertical-align: top;\n",
       "    }\n",
       "\n",
       "    .dataframe thead th {\n",
       "        text-align: right;\n",
       "    }\n",
       "</style>\n",
       "<table border=\"1\" class=\"dataframe\">\n",
       "  <thead>\n",
       "    <tr style=\"text-align: right;\">\n",
       "      <th></th>\n",
       "      <th>month</th>\n",
       "      <th>day</th>\n",
       "      <th>hour</th>\n",
       "      <th>Pressure reduced to MSL</th>\n",
       "      <th>Pressure</th>\n",
       "      <th>u-component of wind</th>\n",
       "      <th>v-component of wind</th>\n",
       "      <th>Temperature</th>\n",
       "      <th>Relative humidity</th>\n",
       "      <th>Low cloud cover</th>\n",
       "      <th>...</th>\n",
       "      <th>v-co400</th>\n",
       "      <th>Temp400</th>\n",
       "      <th>Vert400</th>\n",
       "      <th>Rela400</th>\n",
       "      <th>Geop300</th>\n",
       "      <th>u-co300</th>\n",
       "      <th>v-co300</th>\n",
       "      <th>Temp300</th>\n",
       "      <th>Vert300</th>\n",
       "      <th>Rela300</th>\n",
       "    </tr>\n",
       "  </thead>\n",
       "  <tbody>\n",
       "    <tr>\n",
       "      <th>17490</th>\n",
       "      <td>12</td>\n",
       "      <td>31</td>\n",
       "      <td>19</td>\n",
       "      <td>102251.7578</td>\n",
       "      <td>101851.8677</td>\n",
       "      <td>-0.3193</td>\n",
       "      <td>0.4817</td>\n",
       "      <td>255.0951</td>\n",
       "      <td>84.4308</td>\n",
       "      <td>7.4219</td>\n",
       "      <td>...</td>\n",
       "      <td>-3.3410</td>\n",
       "      <td>231.8039</td>\n",
       "      <td>-0.1967</td>\n",
       "      <td>39.2687</td>\n",
       "      <td>8855.1833</td>\n",
       "      <td>23.3240</td>\n",
       "      <td>-2.7764</td>\n",
       "      <td>217.8159</td>\n",
       "      <td>0.1247</td>\n",
       "      <td>50.5935</td>\n",
       "    </tr>\n",
       "    <tr>\n",
       "      <th>17491</th>\n",
       "      <td>12</td>\n",
       "      <td>31</td>\n",
       "      <td>20</td>\n",
       "      <td>102244.5557</td>\n",
       "      <td>101840.0818</td>\n",
       "      <td>-0.4729</td>\n",
       "      <td>0.6044</td>\n",
       "      <td>255.1464</td>\n",
       "      <td>85.1554</td>\n",
       "      <td>7.1777</td>\n",
       "      <td>...</td>\n",
       "      <td>-3.4526</td>\n",
       "      <td>231.9906</td>\n",
       "      <td>-0.1295</td>\n",
       "      <td>33.7468</td>\n",
       "      <td>8853.0198</td>\n",
       "      <td>23.4555</td>\n",
       "      <td>-2.6925</td>\n",
       "      <td>217.7097</td>\n",
       "      <td>0.1662</td>\n",
       "      <td>52.5975</td>\n",
       "    </tr>\n",
       "    <tr>\n",
       "      <th>17492</th>\n",
       "      <td>12</td>\n",
       "      <td>31</td>\n",
       "      <td>21</td>\n",
       "      <td>102240.7593</td>\n",
       "      <td>101837.8113</td>\n",
       "      <td>-0.7237</td>\n",
       "      <td>0.8614</td>\n",
       "      <td>255.6707</td>\n",
       "      <td>86.2834</td>\n",
       "      <td>4.1504</td>\n",
       "      <td>...</td>\n",
       "      <td>-3.5642</td>\n",
       "      <td>232.1774</td>\n",
       "      <td>-0.0623</td>\n",
       "      <td>28.2249</td>\n",
       "      <td>8850.8564</td>\n",
       "      <td>23.5871</td>\n",
       "      <td>-2.6087</td>\n",
       "      <td>217.6035</td>\n",
       "      <td>0.2078</td>\n",
       "      <td>54.6015</td>\n",
       "    </tr>\n",
       "    <tr>\n",
       "      <th>17493</th>\n",
       "      <td>12</td>\n",
       "      <td>31</td>\n",
       "      <td>22</td>\n",
       "      <td>102241.2598</td>\n",
       "      <td>101836.9507</td>\n",
       "      <td>-0.8680</td>\n",
       "      <td>1.0521</td>\n",
       "      <td>256.2000</td>\n",
       "      <td>86.4506</td>\n",
       "      <td>4.9805</td>\n",
       "      <td>...</td>\n",
       "      <td>-2.4891</td>\n",
       "      <td>232.0829</td>\n",
       "      <td>-0.0485</td>\n",
       "      <td>39.1686</td>\n",
       "      <td>8849.0602</td>\n",
       "      <td>23.1244</td>\n",
       "      <td>-1.2225</td>\n",
       "      <td>217.5608</td>\n",
       "      <td>0.1922</td>\n",
       "      <td>52.3367</td>\n",
       "    </tr>\n",
       "    <tr>\n",
       "      <th>17494</th>\n",
       "      <td>12</td>\n",
       "      <td>31</td>\n",
       "      <td>23</td>\n",
       "      <td>102235.0708</td>\n",
       "      <td>101834.8572</td>\n",
       "      <td>-1.4124</td>\n",
       "      <td>0.9927</td>\n",
       "      <td>257.9706</td>\n",
       "      <td>85.3456</td>\n",
       "      <td>0.4395</td>\n",
       "      <td>...</td>\n",
       "      <td>-1.4140</td>\n",
       "      <td>231.9885</td>\n",
       "      <td>-0.0348</td>\n",
       "      <td>50.1124</td>\n",
       "      <td>8847.2640</td>\n",
       "      <td>22.6618</td>\n",
       "      <td>0.1638</td>\n",
       "      <td>217.5180</td>\n",
       "      <td>0.1765</td>\n",
       "      <td>50.0720</td>\n",
       "    </tr>\n",
       "  </tbody>\n",
       "</table>\n",
       "<p>5 rows × 86 columns</p>\n",
       "</div>"
      ],
      "text/plain": [
       "<div>\n",
       "<style scoped>\n",
       "    .dataframe tbody tr th:only-of-type {\n",
       "        vertical-align: middle;\n",
       "    }\n",
       "\n",
       "    .dataframe tbody tr th {\n",
       "        vertical-align: top;\n",
       "    }\n",
       "\n",
       "    .dataframe thead th {\n",
       "        text-align: right;\n",
       "    }\n",
       "</style>\n",
       "<table border=\"1\" class=\"dataframe\">\n",
       "  <thead>\n",
       "    <tr style=\"text-align: right;\">\n",
       "      <th></th>\n",
       "      <th>month</th>\n",
       "      <th>day</th>\n",
       "      <th>hour</th>\n",
       "      <th>Pressure reduced to MSL</th>\n",
       "      <th>Pressure</th>\n",
       "      <th>u-component of wind</th>\n",
       "      <th>v-component of wind</th>\n",
       "      <th>Temperature</th>\n",
       "      <th>Relative humidity</th>\n",
       "      <th>Low cloud cover</th>\n",
       "      <th>...</th>\n",
       "      <th>v-co400</th>\n",
       "      <th>Temp400</th>\n",
       "      <th>Vert400</th>\n",
       "      <th>Rela400</th>\n",
       "      <th>Geop300</th>\n",
       "      <th>u-co300</th>\n",
       "      <th>v-co300</th>\n",
       "      <th>Temp300</th>\n",
       "      <th>Vert300</th>\n",
       "      <th>Rela300</th>\n",
       "    </tr>\n",
       "  </thead>\n",
       "  <tbody>\n",
       "    <tr>\n",
       "      <th>17490</th>\n",
       "      <td>12</td>\n",
       "      <td>31</td>\n",
       "      <td>19</td>\n",
       "      <td>102251.7578</td>\n",
       "      <td>101851.8677</td>\n",
       "      <td>-0.3193</td>\n",
       "      <td>0.4817</td>\n",
       "      <td>255.0951</td>\n",
       "      <td>84.4308</td>\n",
       "      <td>7.4219</td>\n",
       "      <td>...</td>\n",
       "      <td>-3.3410</td>\n",
       "      <td>231.8039</td>\n",
       "      <td>-0.1967</td>\n",
       "      <td>39.2687</td>\n",
       "      <td>8855.1833</td>\n",
       "      <td>23.3240</td>\n",
       "      <td>-2.7764</td>\n",
       "      <td>217.8159</td>\n",
       "      <td>0.1247</td>\n",
       "      <td>50.5935</td>\n",
       "    </tr>\n",
       "    <tr>\n",
       "      <th>17491</th>\n",
       "      <td>12</td>\n",
       "      <td>31</td>\n",
       "      <td>20</td>\n",
       "      <td>102244.5557</td>\n",
       "      <td>101840.0818</td>\n",
       "      <td>-0.4729</td>\n",
       "      <td>0.6044</td>\n",
       "      <td>255.1464</td>\n",
       "      <td>85.1554</td>\n",
       "      <td>7.1777</td>\n",
       "      <td>...</td>\n",
       "      <td>-3.4526</td>\n",
       "      <td>231.9906</td>\n",
       "      <td>-0.1295</td>\n",
       "      <td>33.7468</td>\n",
       "      <td>8853.0198</td>\n",
       "      <td>23.4555</td>\n",
       "      <td>-2.6925</td>\n",
       "      <td>217.7097</td>\n",
       "      <td>0.1662</td>\n",
       "      <td>52.5975</td>\n",
       "    </tr>\n",
       "    <tr>\n",
       "      <th>17492</th>\n",
       "      <td>12</td>\n",
       "      <td>31</td>\n",
       "      <td>21</td>\n",
       "      <td>102240.7593</td>\n",
       "      <td>101837.8113</td>\n",
       "      <td>-0.7237</td>\n",
       "      <td>0.8614</td>\n",
       "      <td>255.6707</td>\n",
       "      <td>86.2834</td>\n",
       "      <td>4.1504</td>\n",
       "      <td>...</td>\n",
       "      <td>-3.5642</td>\n",
       "      <td>232.1774</td>\n",
       "      <td>-0.0623</td>\n",
       "      <td>28.2249</td>\n",
       "      <td>8850.8564</td>\n",
       "      <td>23.5871</td>\n",
       "      <td>-2.6087</td>\n",
       "      <td>217.6035</td>\n",
       "      <td>0.2078</td>\n",
       "      <td>54.6015</td>\n",
       "    </tr>\n",
       "    <tr>\n",
       "      <th>17493</th>\n",
       "      <td>12</td>\n",
       "      <td>31</td>\n",
       "      <td>22</td>\n",
       "      <td>102241.2598</td>\n",
       "      <td>101836.9507</td>\n",
       "      <td>-0.8680</td>\n",
       "      <td>1.0521</td>\n",
       "      <td>256.2000</td>\n",
       "      <td>86.4506</td>\n",
       "      <td>4.9805</td>\n",
       "      <td>...</td>\n",
       "      <td>-2.4891</td>\n",
       "      <td>232.0829</td>\n",
       "      <td>-0.0485</td>\n",
       "      <td>39.1686</td>\n",
       "      <td>8849.0602</td>\n",
       "      <td>23.1244</td>\n",
       "      <td>-1.2225</td>\n",
       "      <td>217.5608</td>\n",
       "      <td>0.1922</td>\n",
       "      <td>52.3367</td>\n",
       "    </tr>\n",
       "    <tr>\n",
       "      <th>17494</th>\n",
       "      <td>12</td>\n",
       "      <td>31</td>\n",
       "      <td>23</td>\n",
       "      <td>102235.0708</td>\n",
       "      <td>101834.8572</td>\n",
       "      <td>-1.4124</td>\n",
       "      <td>0.9927</td>\n",
       "      <td>257.9706</td>\n",
       "      <td>85.3456</td>\n",
       "      <td>0.4395</td>\n",
       "      <td>...</td>\n",
       "      <td>-1.4140</td>\n",
       "      <td>231.9885</td>\n",
       "      <td>-0.0348</td>\n",
       "      <td>50.1124</td>\n",
       "      <td>8847.2640</td>\n",
       "      <td>22.6618</td>\n",
       "      <td>0.1638</td>\n",
       "      <td>217.5180</td>\n",
       "      <td>0.1765</td>\n",
       "      <td>50.0720</td>\n",
       "    </tr>\n",
       "  </tbody>\n",
       "</table>\n",
       "<p>5 rows × 86 columns</p>\n",
       "</div>"
      ]
     },
     "execution_count": 0,
     "metadata": {},
     "output_type": "execute_result"
    },
    {
     "name": "stdout",
     "output_type": "stream",
     "text": [
      "\ny :\n"
     ]
    },
    {
     "data": {
      "text/plain": [
       "17490    8.0\n17491    8.0\n17492    8.0\n17493    8.0\n17494    8.0\nName: visibility_rank, dtype: float64"
      ]
     },
     "execution_count": 0,
     "metadata": {},
     "output_type": "execute_result"
    }
   ],
   "source": [
    "fets = skyds.get_init_features()\n",
    "target = skyds.get_init_target()\n",
    "\n",
    "train = train[fets + target]\n",
    "\n",
    "X_train = train.iloc[:, :-1]\n",
    "y_train = train.iloc[:, -1]\n",
    "\n",
    "print('X :')\n",
    "display(X_train.tail())\n",
    "\n",
    "print()\n",
    "print('y :')\n",
    "display(y_train.tail())"
   ]
  },
  {
   "cell_type": "markdown",
   "metadata": {},
   "source": [
    "学習データを2ヶ月毎に分割"
   ]
  },
  {
   "cell_type": "code",
   "execution_count": 7,
   "metadata": {},
   "outputs": [
    {
     "name": "stdout",
     "output_type": "stream",
     "text": [
      "dict_keys(['month:1-2', 'month:3-4', 'month:5-6', 'month:7-8', 'month:9-10', 'month:11-12'])\n"
     ]
    }
   ],
   "source": [
    "date = train['month']\n",
    "\n",
    "spX_train = skyds.convert.split_time_series(X_train, date, date_fmt='%m')\n",
    "spy_train = skyds.convert.split_time_series(y_train, date, date_fmt='%m')\n",
    "\n",
    "print(spX_train.keys())\n"
   ]
  },
  {
   "cell_type": "code",
   "execution_count": 8,
   "metadata": {},
   "outputs": [
    {
     "name": "stdout",
     "output_type": "stream",
     "text": [
      "X :\n"
     ]
    },
    {
     "data": {
      "text/html": [
       "<div>\n",
       "<style scoped>\n",
       "    .dataframe tbody tr th:only-of-type {\n",
       "        vertical-align: middle;\n",
       "    }\n",
       "\n",
       "    .dataframe tbody tr th {\n",
       "        vertical-align: top;\n",
       "    }\n",
       "\n",
       "    .dataframe thead th {\n",
       "        text-align: right;\n",
       "    }\n",
       "</style>\n",
       "<table border=\"1\" class=\"dataframe\">\n",
       "  <thead>\n",
       "    <tr style=\"text-align: right;\">\n",
       "      <th></th>\n",
       "      <th>month</th>\n",
       "      <th>day</th>\n",
       "      <th>hour</th>\n",
       "      <th>Pressure reduced to MSL</th>\n",
       "      <th>Pressure</th>\n",
       "      <th>u-component of wind</th>\n",
       "      <th>v-component of wind</th>\n",
       "      <th>Temperature</th>\n",
       "      <th>Relative humidity</th>\n",
       "      <th>Low cloud cover</th>\n",
       "      <th>...</th>\n",
       "      <th>v-co400</th>\n",
       "      <th>Temp400</th>\n",
       "      <th>Vert400</th>\n",
       "      <th>Rela400</th>\n",
       "      <th>Geop300</th>\n",
       "      <th>u-co300</th>\n",
       "      <th>v-co300</th>\n",
       "      <th>Temp300</th>\n",
       "      <th>Vert300</th>\n",
       "      <th>Rela300</th>\n",
       "    </tr>\n",
       "  </thead>\n",
       "  <tbody>\n",
       "    <tr>\n",
       "      <th>2822</th>\n",
       "      <td>2</td>\n",
       "      <td>29</td>\n",
       "      <td>2</td>\n",
       "      <td>100461.6516</td>\n",
       "      <td>100081.3110</td>\n",
       "      <td>-6.4486</td>\n",
       "      <td>7.8922</td>\n",
       "      <td>274.4584</td>\n",
       "      <td>79.3404</td>\n",
       "      <td>40.0391</td>\n",
       "      <td>...</td>\n",
       "      <td>39.0889</td>\n",
       "      <td>230.9630</td>\n",
       "      <td>1.0017</td>\n",
       "      <td>56.0148</td>\n",
       "      <td>8746.0804</td>\n",
       "      <td>40.2940</td>\n",
       "      <td>33.3556</td>\n",
       "      <td>215.6728</td>\n",
       "      <td>-0.1337</td>\n",
       "      <td>38.4995</td>\n",
       "    </tr>\n",
       "    <tr>\n",
       "      <th>2823</th>\n",
       "      <td>2</td>\n",
       "      <td>29</td>\n",
       "      <td>3</td>\n",
       "      <td>100373.9319</td>\n",
       "      <td>99990.5029</td>\n",
       "      <td>-5.4986</td>\n",
       "      <td>7.4679</td>\n",
       "      <td>275.4492</td>\n",
       "      <td>83.1218</td>\n",
       "      <td>42.4805</td>\n",
       "      <td>...</td>\n",
       "      <td>40.0211</td>\n",
       "      <td>231.0711</td>\n",
       "      <td>0.9749</td>\n",
       "      <td>63.3991</td>\n",
       "      <td>8742.2773</td>\n",
       "      <td>40.3411</td>\n",
       "      <td>34.5986</td>\n",
       "      <td>215.2089</td>\n",
       "      <td>-0.2067</td>\n",
       "      <td>48.4800</td>\n",
       "    </tr>\n",
       "    <tr>\n",
       "      <th>2824</th>\n",
       "      <td>2</td>\n",
       "      <td>29</td>\n",
       "      <td>4</td>\n",
       "      <td>100320.0623</td>\n",
       "      <td>99934.8938</td>\n",
       "      <td>-3.3840</td>\n",
       "      <td>6.1825</td>\n",
       "      <td>276.2422</td>\n",
       "      <td>86.2833</td>\n",
       "      <td>59.5215</td>\n",
       "      <td>...</td>\n",
       "      <td>40.0001</td>\n",
       "      <td>231.1616</td>\n",
       "      <td>0.9596</td>\n",
       "      <td>63.2766</td>\n",
       "      <td>8734.4658</td>\n",
       "      <td>38.6546</td>\n",
       "      <td>35.8862</td>\n",
       "      <td>215.3603</td>\n",
       "      <td>-0.0596</td>\n",
       "      <td>47.2850</td>\n",
       "    </tr>\n",
       "    <tr>\n",
       "      <th>2825</th>\n",
       "      <td>2</td>\n",
       "      <td>29</td>\n",
       "      <td>5</td>\n",
       "      <td>100236.2366</td>\n",
       "      <td>99855.7129</td>\n",
       "      <td>-1.7855</td>\n",
       "      <td>5.6573</td>\n",
       "      <td>278.1840</td>\n",
       "      <td>84.1554</td>\n",
       "      <td>22.9004</td>\n",
       "      <td>...</td>\n",
       "      <td>39.9790</td>\n",
       "      <td>231.2521</td>\n",
       "      <td>0.9442</td>\n",
       "      <td>63.1542</td>\n",
       "      <td>8726.6543</td>\n",
       "      <td>36.9681</td>\n",
       "      <td>37.1739</td>\n",
       "      <td>215.5117</td>\n",
       "      <td>0.0876</td>\n",
       "      <td>46.0899</td>\n",
       "    </tr>\n",
       "    <tr>\n",
       "      <th>2826</th>\n",
       "      <td>2</td>\n",
       "      <td>29</td>\n",
       "      <td>6</td>\n",
       "      <td>100173.9990</td>\n",
       "      <td>99794.1956</td>\n",
       "      <td>-0.3196</td>\n",
       "      <td>5.6047</td>\n",
       "      <td>278.3602</td>\n",
       "      <td>72.6187</td>\n",
       "      <td>23.4863</td>\n",
       "      <td>...</td>\n",
       "      <td>39.9580</td>\n",
       "      <td>231.3426</td>\n",
       "      <td>0.9289</td>\n",
       "      <td>63.0317</td>\n",
       "      <td>8718.8428</td>\n",
       "      <td>35.2816</td>\n",
       "      <td>38.4615</td>\n",
       "      <td>215.6631</td>\n",
       "      <td>0.2347</td>\n",
       "      <td>44.8949</td>\n",
       "    </tr>\n",
       "  </tbody>\n",
       "</table>\n",
       "<p>5 rows × 86 columns</p>\n",
       "</div>"
      ],
      "text/plain": [
       "<div>\n",
       "<style scoped>\n",
       "    .dataframe tbody tr th:only-of-type {\n",
       "        vertical-align: middle;\n",
       "    }\n",
       "\n",
       "    .dataframe tbody tr th {\n",
       "        vertical-align: top;\n",
       "    }\n",
       "\n",
       "    .dataframe thead th {\n",
       "        text-align: right;\n",
       "    }\n",
       "</style>\n",
       "<table border=\"1\" class=\"dataframe\">\n",
       "  <thead>\n",
       "    <tr style=\"text-align: right;\">\n",
       "      <th></th>\n",
       "      <th>month</th>\n",
       "      <th>day</th>\n",
       "      <th>hour</th>\n",
       "      <th>Pressure reduced to MSL</th>\n",
       "      <th>Pressure</th>\n",
       "      <th>u-component of wind</th>\n",
       "      <th>v-component of wind</th>\n",
       "      <th>Temperature</th>\n",
       "      <th>Relative humidity</th>\n",
       "      <th>Low cloud cover</th>\n",
       "      <th>...</th>\n",
       "      <th>v-co400</th>\n",
       "      <th>Temp400</th>\n",
       "      <th>Vert400</th>\n",
       "      <th>Rela400</th>\n",
       "      <th>Geop300</th>\n",
       "      <th>u-co300</th>\n",
       "      <th>v-co300</th>\n",
       "      <th>Temp300</th>\n",
       "      <th>Vert300</th>\n",
       "      <th>Rela300</th>\n",
       "    </tr>\n",
       "  </thead>\n",
       "  <tbody>\n",
       "    <tr>\n",
       "      <th>2822</th>\n",
       "      <td>2</td>\n",
       "      <td>29</td>\n",
       "      <td>2</td>\n",
       "      <td>100461.6516</td>\n",
       "      <td>100081.3110</td>\n",
       "      <td>-6.4486</td>\n",
       "      <td>7.8922</td>\n",
       "      <td>274.4584</td>\n",
       "      <td>79.3404</td>\n",
       "      <td>40.0391</td>\n",
       "      <td>...</td>\n",
       "      <td>39.0889</td>\n",
       "      <td>230.9630</td>\n",
       "      <td>1.0017</td>\n",
       "      <td>56.0148</td>\n",
       "      <td>8746.0804</td>\n",
       "      <td>40.2940</td>\n",
       "      <td>33.3556</td>\n",
       "      <td>215.6728</td>\n",
       "      <td>-0.1337</td>\n",
       "      <td>38.4995</td>\n",
       "    </tr>\n",
       "    <tr>\n",
       "      <th>2823</th>\n",
       "      <td>2</td>\n",
       "      <td>29</td>\n",
       "      <td>3</td>\n",
       "      <td>100373.9319</td>\n",
       "      <td>99990.5029</td>\n",
       "      <td>-5.4986</td>\n",
       "      <td>7.4679</td>\n",
       "      <td>275.4492</td>\n",
       "      <td>83.1218</td>\n",
       "      <td>42.4805</td>\n",
       "      <td>...</td>\n",
       "      <td>40.0211</td>\n",
       "      <td>231.0711</td>\n",
       "      <td>0.9749</td>\n",
       "      <td>63.3991</td>\n",
       "      <td>8742.2773</td>\n",
       "      <td>40.3411</td>\n",
       "      <td>34.5986</td>\n",
       "      <td>215.2089</td>\n",
       "      <td>-0.2067</td>\n",
       "      <td>48.4800</td>\n",
       "    </tr>\n",
       "    <tr>\n",
       "      <th>2824</th>\n",
       "      <td>2</td>\n",
       "      <td>29</td>\n",
       "      <td>4</td>\n",
       "      <td>100320.0623</td>\n",
       "      <td>99934.8938</td>\n",
       "      <td>-3.3840</td>\n",
       "      <td>6.1825</td>\n",
       "      <td>276.2422</td>\n",
       "      <td>86.2833</td>\n",
       "      <td>59.5215</td>\n",
       "      <td>...</td>\n",
       "      <td>40.0001</td>\n",
       "      <td>231.1616</td>\n",
       "      <td>0.9596</td>\n",
       "      <td>63.2766</td>\n",
       "      <td>8734.4658</td>\n",
       "      <td>38.6546</td>\n",
       "      <td>35.8862</td>\n",
       "      <td>215.3603</td>\n",
       "      <td>-0.0596</td>\n",
       "      <td>47.2850</td>\n",
       "    </tr>\n",
       "    <tr>\n",
       "      <th>2825</th>\n",
       "      <td>2</td>\n",
       "      <td>29</td>\n",
       "      <td>5</td>\n",
       "      <td>100236.2366</td>\n",
       "      <td>99855.7129</td>\n",
       "      <td>-1.7855</td>\n",
       "      <td>5.6573</td>\n",
       "      <td>278.1840</td>\n",
       "      <td>84.1554</td>\n",
       "      <td>22.9004</td>\n",
       "      <td>...</td>\n",
       "      <td>39.9790</td>\n",
       "      <td>231.2521</td>\n",
       "      <td>0.9442</td>\n",
       "      <td>63.1542</td>\n",
       "      <td>8726.6543</td>\n",
       "      <td>36.9681</td>\n",
       "      <td>37.1739</td>\n",
       "      <td>215.5117</td>\n",
       "      <td>0.0876</td>\n",
       "      <td>46.0899</td>\n",
       "    </tr>\n",
       "    <tr>\n",
       "      <th>2826</th>\n",
       "      <td>2</td>\n",
       "      <td>29</td>\n",
       "      <td>6</td>\n",
       "      <td>100173.9990</td>\n",
       "      <td>99794.1956</td>\n",
       "      <td>-0.3196</td>\n",
       "      <td>5.6047</td>\n",
       "      <td>278.3602</td>\n",
       "      <td>72.6187</td>\n",
       "      <td>23.4863</td>\n",
       "      <td>...</td>\n",
       "      <td>39.9580</td>\n",
       "      <td>231.3426</td>\n",
       "      <td>0.9289</td>\n",
       "      <td>63.0317</td>\n",
       "      <td>8718.8428</td>\n",
       "      <td>35.2816</td>\n",
       "      <td>38.4615</td>\n",
       "      <td>215.6631</td>\n",
       "      <td>0.2347</td>\n",
       "      <td>44.8949</td>\n",
       "    </tr>\n",
       "  </tbody>\n",
       "</table>\n",
       "<p>5 rows × 86 columns</p>\n",
       "</div>"
      ]
     },
     "execution_count": 0,
     "metadata": {},
     "output_type": "execute_result"
    },
    {
     "name": "stdout",
     "output_type": "stream",
     "text": [
      "\ny :\n"
     ]
    },
    {
     "data": {
      "text/plain": [
       "2822    5.0\n2823    7.0\n2824    8.0\n2825    8.0\n2826    8.0\nName: visibility_rank, dtype: float64"
      ]
     },
     "execution_count": 0,
     "metadata": {},
     "output_type": "execute_result"
    }
   ],
   "source": [
    "month_keys = [\n",
    "    'month:1-2',\n",
    "    'month:3-4',\n",
    "    'month:5-6',\n",
    "    'month:7-8',\n",
    "    'month:9-10',\n",
    "    'month:11-12'\n",
    "]\n",
    "\n",
    "print('X :')\n",
    "display(spX_train[month_keys[0]].tail())\n",
    "print()\n",
    "print('y :')\n",
    "display(spy_train[month_keys[0]].tail())\n"
   ]
  },
  {
   "cell_type": "markdown",
   "metadata": {},
   "source": [
    "同様の処理をテストデータについても行う"
   ]
  },
  {
   "cell_type": "code",
   "execution_count": 9,
   "metadata": {},
   "outputs": [],
   "source": [
    "test = skyds.read_csv('%s/skynet/test_%s.csv' % (DATA_DIR, icao))\n",
    "test = test[fets + target]\n",
    "\n",
    "X_test = test.iloc[:, :-1]\n",
    "y_test = test.iloc[:, -1]\n",
    "\n",
    "date = X_test['month']\n",
    "\n",
    "spX_test = skyds.convert.split_time_series(X_test, date, date_fmt='%m')\n",
    "spy_test = skyds.convert.split_time_series(y_test, date, date_fmt='%m')\n"
   ]
  },
  {
   "cell_type": "code",
   "execution_count": 10,
   "metadata": {},
   "outputs": [],
   "source": [
    "from skynet.mlcore.naive_bayes import GaussianNB\n",
    "\n",
    "X_train_0102, y_train_0102 = spX_train[month_keys[0]], spy_train[month_keys[0]]\n",
    "X_test_0102, y_test_0102 = spX_test[month_keys[0]], spy_test[month_keys[0]]\n",
    "\n",
    "clf = GaussianNB()\n",
    "lo = LearningOperator(\n",
    "    clf,\n",
    "    X_train_0102,\n",
    "    y_train_0102,\n",
    "    X_test_0102,\n",
    "    y_test_0102\n",
    ")\n"
   ]
  },
  {
   "cell_type": "markdown",
   "metadata": {},
   "source": [
    "正規化"
   ]
  },
  {
   "cell_type": "code",
   "execution_count": 11,
   "metadata": {},
   "outputs": [
    {
     "name": "stdout",
     "output_type": "stream",
     "text": [
      "X :\n"
     ]
    },
    {
     "data": {
      "text/html": [
       "<div>\n",
       "<style scoped>\n",
       "    .dataframe tbody tr th:only-of-type {\n",
       "        vertical-align: middle;\n",
       "    }\n",
       "\n",
       "    .dataframe tbody tr th {\n",
       "        vertical-align: top;\n",
       "    }\n",
       "\n",
       "    .dataframe thead th {\n",
       "        text-align: right;\n",
       "    }\n",
       "</style>\n",
       "<table border=\"1\" class=\"dataframe\">\n",
       "  <thead>\n",
       "    <tr style=\"text-align: right;\">\n",
       "      <th></th>\n",
       "      <th>month</th>\n",
       "      <th>day</th>\n",
       "      <th>hour</th>\n",
       "      <th>Pressure reduced to MSL</th>\n",
       "      <th>Pressure</th>\n",
       "      <th>u-component of wind</th>\n",
       "      <th>v-component of wind</th>\n",
       "      <th>Temperature</th>\n",
       "      <th>Relative humidity</th>\n",
       "      <th>Low cloud cover</th>\n",
       "      <th>...</th>\n",
       "      <th>v-co400</th>\n",
       "      <th>Temp400</th>\n",
       "      <th>Vert400</th>\n",
       "      <th>Rela400</th>\n",
       "      <th>Geop300</th>\n",
       "      <th>u-co300</th>\n",
       "      <th>v-co300</th>\n",
       "      <th>Temp300</th>\n",
       "      <th>Vert300</th>\n",
       "      <th>Rela300</th>\n",
       "    </tr>\n",
       "  </thead>\n",
       "  <tbody>\n",
       "    <tr>\n",
       "      <th>2822</th>\n",
       "      <td>1.045239</td>\n",
       "      <td>1.590719</td>\n",
       "      <td>-1.376069</td>\n",
       "      <td>-1.138507</td>\n",
       "      <td>-1.129404</td>\n",
       "      <td>-5.135074</td>\n",
       "      <td>3.810833</td>\n",
       "      <td>1.336229</td>\n",
       "      <td>0.270860</td>\n",
       "      <td>0.887371</td>\n",
       "      <td>...</td>\n",
       "      <td>2.932324</td>\n",
       "      <td>0.239591</td>\n",
       "      <td>1.462260</td>\n",
       "      <td>1.399337</td>\n",
       "      <td>0.302913</td>\n",
       "      <td>0.509636</td>\n",
       "      <td>2.149719</td>\n",
       "      <td>-1.682516</td>\n",
       "      <td>-0.544782</td>\n",
       "      <td>1.384134</td>\n",
       "    </tr>\n",
       "    <tr>\n",
       "      <th>2823</th>\n",
       "      <td>1.045239</td>\n",
       "      <td>1.590719</td>\n",
       "      <td>-1.231480</td>\n",
       "      <td>-1.237495</td>\n",
       "      <td>-1.232433</td>\n",
       "      <td>-4.437585</td>\n",
       "      <td>3.615740</td>\n",
       "      <td>1.511784</td>\n",
       "      <td>0.576663</td>\n",
       "      <td>1.007351</td>\n",
       "      <td>...</td>\n",
       "      <td>3.003402</td>\n",
       "      <td>0.267459</td>\n",
       "      <td>1.415551</td>\n",
       "      <td>1.759232</td>\n",
       "      <td>0.276686</td>\n",
       "      <td>0.512202</td>\n",
       "      <td>2.235190</td>\n",
       "      <td>-1.811843</td>\n",
       "      <td>-0.733195</td>\n",
       "      <td>2.001945</td>\n",
       "    </tr>\n",
       "    <tr>\n",
       "      <th>2824</th>\n",
       "      <td>1.045239</td>\n",
       "      <td>1.590719</td>\n",
       "      <td>-1.086892</td>\n",
       "      <td>-1.298285</td>\n",
       "      <td>-1.295526</td>\n",
       "      <td>-2.885049</td>\n",
       "      <td>3.024715</td>\n",
       "      <td>1.652292</td>\n",
       "      <td>0.832334</td>\n",
       "      <td>1.844812</td>\n",
       "      <td>...</td>\n",
       "      <td>3.001801</td>\n",
       "      <td>0.290790</td>\n",
       "      <td>1.388885</td>\n",
       "      <td>1.753262</td>\n",
       "      <td>0.222817</td>\n",
       "      <td>0.420336</td>\n",
       "      <td>2.323729</td>\n",
       "      <td>-1.769636</td>\n",
       "      <td>-0.353530</td>\n",
       "      <td>1.927972</td>\n",
       "    </tr>\n",
       "    <tr>\n",
       "      <th>2825</th>\n",
       "      <td>1.045239</td>\n",
       "      <td>1.590719</td>\n",
       "      <td>-0.942304</td>\n",
       "      <td>-1.392879</td>\n",
       "      <td>-1.385363</td>\n",
       "      <td>-1.711432</td>\n",
       "      <td>2.783228</td>\n",
       "      <td>1.996349</td>\n",
       "      <td>0.660251</td>\n",
       "      <td>0.045109</td>\n",
       "      <td>...</td>\n",
       "      <td>3.000192</td>\n",
       "      <td>0.314121</td>\n",
       "      <td>1.362044</td>\n",
       "      <td>1.747296</td>\n",
       "      <td>0.168948</td>\n",
       "      <td>0.328469</td>\n",
       "      <td>2.412274</td>\n",
       "      <td>-1.727428</td>\n",
       "      <td>0.026393</td>\n",
       "      <td>1.853993</td>\n",
       "    </tr>\n",
       "    <tr>\n",
       "      <th>2826</th>\n",
       "      <td>1.045239</td>\n",
       "      <td>1.590719</td>\n",
       "      <td>-0.797716</td>\n",
       "      <td>-1.463112</td>\n",
       "      <td>-1.455159</td>\n",
       "      <td>-0.635170</td>\n",
       "      <td>2.759043</td>\n",
       "      <td>2.027569</td>\n",
       "      <td>-0.272725</td>\n",
       "      <td>0.073902</td>\n",
       "      <td>...</td>\n",
       "      <td>2.998591</td>\n",
       "      <td>0.337452</td>\n",
       "      <td>1.335378</td>\n",
       "      <td>1.741326</td>\n",
       "      <td>0.115079</td>\n",
       "      <td>0.236603</td>\n",
       "      <td>2.500812</td>\n",
       "      <td>-1.685220</td>\n",
       "      <td>0.406057</td>\n",
       "      <td>1.780021</td>\n",
       "    </tr>\n",
       "  </tbody>\n",
       "</table>\n",
       "<p>5 rows × 86 columns</p>\n",
       "</div>"
      ],
      "text/plain": [
       "<div>\n",
       "<style scoped>\n",
       "    .dataframe tbody tr th:only-of-type {\n",
       "        vertical-align: middle;\n",
       "    }\n",
       "\n",
       "    .dataframe tbody tr th {\n",
       "        vertical-align: top;\n",
       "    }\n",
       "\n",
       "    .dataframe thead th {\n",
       "        text-align: right;\n",
       "    }\n",
       "</style>\n",
       "<table border=\"1\" class=\"dataframe\">\n",
       "  <thead>\n",
       "    <tr style=\"text-align: right;\">\n",
       "      <th></th>\n",
       "      <th>month</th>\n",
       "      <th>day</th>\n",
       "      <th>hour</th>\n",
       "      <th>Pressure reduced to MSL</th>\n",
       "      <th>Pressure</th>\n",
       "      <th>u-component of wind</th>\n",
       "      <th>v-component of wind</th>\n",
       "      <th>Temperature</th>\n",
       "      <th>Relative humidity</th>\n",
       "      <th>Low cloud cover</th>\n",
       "      <th>...</th>\n",
       "      <th>v-co400</th>\n",
       "      <th>Temp400</th>\n",
       "      <th>Vert400</th>\n",
       "      <th>Rela400</th>\n",
       "      <th>Geop300</th>\n",
       "      <th>u-co300</th>\n",
       "      <th>v-co300</th>\n",
       "      <th>Temp300</th>\n",
       "      <th>Vert300</th>\n",
       "      <th>Rela300</th>\n",
       "    </tr>\n",
       "  </thead>\n",
       "  <tbody>\n",
       "    <tr>\n",
       "      <th>2822</th>\n",
       "      <td>1.045239</td>\n",
       "      <td>1.590719</td>\n",
       "      <td>-1.376069</td>\n",
       "      <td>-1.138507</td>\n",
       "      <td>-1.129404</td>\n",
       "      <td>-5.135074</td>\n",
       "      <td>3.810833</td>\n",
       "      <td>1.336229</td>\n",
       "      <td>0.270860</td>\n",
       "      <td>0.887371</td>\n",
       "      <td>...</td>\n",
       "      <td>2.932324</td>\n",
       "      <td>0.239591</td>\n",
       "      <td>1.462260</td>\n",
       "      <td>1.399337</td>\n",
       "      <td>0.302913</td>\n",
       "      <td>0.509636</td>\n",
       "      <td>2.149719</td>\n",
       "      <td>-1.682516</td>\n",
       "      <td>-0.544782</td>\n",
       "      <td>1.384134</td>\n",
       "    </tr>\n",
       "    <tr>\n",
       "      <th>2823</th>\n",
       "      <td>1.045239</td>\n",
       "      <td>1.590719</td>\n",
       "      <td>-1.231480</td>\n",
       "      <td>-1.237495</td>\n",
       "      <td>-1.232433</td>\n",
       "      <td>-4.437585</td>\n",
       "      <td>3.615740</td>\n",
       "      <td>1.511784</td>\n",
       "      <td>0.576663</td>\n",
       "      <td>1.007351</td>\n",
       "      <td>...</td>\n",
       "      <td>3.003402</td>\n",
       "      <td>0.267459</td>\n",
       "      <td>1.415551</td>\n",
       "      <td>1.759232</td>\n",
       "      <td>0.276686</td>\n",
       "      <td>0.512202</td>\n",
       "      <td>2.235190</td>\n",
       "      <td>-1.811843</td>\n",
       "      <td>-0.733195</td>\n",
       "      <td>2.001945</td>\n",
       "    </tr>\n",
       "    <tr>\n",
       "      <th>2824</th>\n",
       "      <td>1.045239</td>\n",
       "      <td>1.590719</td>\n",
       "      <td>-1.086892</td>\n",
       "      <td>-1.298285</td>\n",
       "      <td>-1.295526</td>\n",
       "      <td>-2.885049</td>\n",
       "      <td>3.024715</td>\n",
       "      <td>1.652292</td>\n",
       "      <td>0.832334</td>\n",
       "      <td>1.844812</td>\n",
       "      <td>...</td>\n",
       "      <td>3.001801</td>\n",
       "      <td>0.290790</td>\n",
       "      <td>1.388885</td>\n",
       "      <td>1.753262</td>\n",
       "      <td>0.222817</td>\n",
       "      <td>0.420336</td>\n",
       "      <td>2.323729</td>\n",
       "      <td>-1.769636</td>\n",
       "      <td>-0.353530</td>\n",
       "      <td>1.927972</td>\n",
       "    </tr>\n",
       "    <tr>\n",
       "      <th>2825</th>\n",
       "      <td>1.045239</td>\n",
       "      <td>1.590719</td>\n",
       "      <td>-0.942304</td>\n",
       "      <td>-1.392879</td>\n",
       "      <td>-1.385363</td>\n",
       "      <td>-1.711432</td>\n",
       "      <td>2.783228</td>\n",
       "      <td>1.996349</td>\n",
       "      <td>0.660251</td>\n",
       "      <td>0.045109</td>\n",
       "      <td>...</td>\n",
       "      <td>3.000192</td>\n",
       "      <td>0.314121</td>\n",
       "      <td>1.362044</td>\n",
       "      <td>1.747296</td>\n",
       "      <td>0.168948</td>\n",
       "      <td>0.328469</td>\n",
       "      <td>2.412274</td>\n",
       "      <td>-1.727428</td>\n",
       "      <td>0.026393</td>\n",
       "      <td>1.853993</td>\n",
       "    </tr>\n",
       "    <tr>\n",
       "      <th>2826</th>\n",
       "      <td>1.045239</td>\n",
       "      <td>1.590719</td>\n",
       "      <td>-0.797716</td>\n",
       "      <td>-1.463112</td>\n",
       "      <td>-1.455159</td>\n",
       "      <td>-0.635170</td>\n",
       "      <td>2.759043</td>\n",
       "      <td>2.027569</td>\n",
       "      <td>-0.272725</td>\n",
       "      <td>0.073902</td>\n",
       "      <td>...</td>\n",
       "      <td>2.998591</td>\n",
       "      <td>0.337452</td>\n",
       "      <td>1.335378</td>\n",
       "      <td>1.741326</td>\n",
       "      <td>0.115079</td>\n",
       "      <td>0.236603</td>\n",
       "      <td>2.500812</td>\n",
       "      <td>-1.685220</td>\n",
       "      <td>0.406057</td>\n",
       "      <td>1.780021</td>\n",
       "    </tr>\n",
       "  </tbody>\n",
       "</table>\n",
       "<p>5 rows × 86 columns</p>\n",
       "</div>"
      ]
     },
     "execution_count": 0,
     "metadata": {},
     "output_type": "execute_result"
    },
    {
     "name": "stdout",
     "output_type": "stream",
     "text": [
      "\ny :\n"
     ]
    },
    {
     "data": {
      "text/plain": [
       "2822    5.0\n2823    7.0\n2824    8.0\n2825    8.0\n2826    8.0\nName: visibility_rank, dtype: float64"
      ]
     },
     "execution_count": 0,
     "metadata": {},
     "output_type": "execute_result"
    }
   ],
   "source": [
    "from sklearn.preprocessing import StandardScaler\n",
    "\n",
    "ss = StandardScaler()\n",
    "\n",
    "spX_train_norm = {}\n",
    "spX_test_norm = {}\n",
    "for key in month_keys:\n",
    "    spX_train_norm[key] = pd.DataFrame(\n",
    "        ss.fit_transform(spX_train[key].values),\n",
    "        columns=spX_train[key].keys()\n",
    "    )\n",
    "\n",
    "    spX_test_norm[key] = pd.DataFrame(\n",
    "        ss.fit_transform(spX_test[key].values),\n",
    "        columns=spX_test[key].keys()\n",
    "    )\n",
    "\n",
    "print('X :')\n",
    "display(spX_train_norm[month_keys[0]].tail())\n",
    "print()\n",
    "print('y :')\n",
    "display(spy_train[month_keys[0]].tail())\n"
   ]
  },
  {
   "cell_type": "markdown",
   "metadata": {},
   "source": [
    "試しに実験  \n",
    "1月-2月の学習データを使用"
   ]
  },
  {
   "cell_type": "code",
   "execution_count": 299,
   "metadata": {},
   "outputs": [
    {
     "name": "stdout",
     "output_type": "stream",
     "text": [
      "Test Accuracy: 0.64\nTest F value : 0.00\n"
     ]
    },
    {
     "data": {
      "text/html": [
       "<div>\n",
       "<style scoped>\n",
       "    .dataframe tbody tr th:only-of-type {\n",
       "        vertical-align: middle;\n",
       "    }\n",
       "\n",
       "    .dataframe tbody tr th {\n",
       "        vertical-align: top;\n",
       "    }\n",
       "\n",
       "    .dataframe thead th {\n",
       "        text-align: right;\n",
       "    }\n",
       "</style>\n",
       "<table border=\"1\" class=\"dataframe\">\n",
       "  <thead>\n",
       "    <tr style=\"text-align: right;\">\n",
       "      <th></th>\n",
       "      <th>Predicted +</th>\n",
       "      <th>Predicted -</th>\n",
       "    </tr>\n",
       "  </thead>\n",
       "  <tbody>\n",
       "    <tr>\n",
       "      <th>Actual +</th>\n",
       "      <td>0</td>\n",
       "      <td>21</td>\n",
       "    </tr>\n",
       "    <tr>\n",
       "      <th>Actual -</th>\n",
       "      <td>6</td>\n",
       "      <td>1368</td>\n",
       "    </tr>\n",
       "  </tbody>\n",
       "</table>\n",
       "</div>"
      ],
      "text/plain": [
       "<div>\n",
       "<style scoped>\n",
       "    .dataframe tbody tr th:only-of-type {\n",
       "        vertical-align: middle;\n",
       "    }\n",
       "\n",
       "    .dataframe tbody tr th {\n",
       "        vertical-align: top;\n",
       "    }\n",
       "\n",
       "    .dataframe thead th {\n",
       "        text-align: right;\n",
       "    }\n",
       "</style>\n",
       "<table border=\"1\" class=\"dataframe\">\n",
       "  <thead>\n",
       "    <tr style=\"text-align: right;\">\n",
       "      <th></th>\n",
       "      <th>Predicted +</th>\n",
       "      <th>Predicted -</th>\n",
       "    </tr>\n",
       "  </thead>\n",
       "  <tbody>\n",
       "    <tr>\n",
       "      <th>Actual +</th>\n",
       "      <td>0</td>\n",
       "      <td>21</td>\n",
       "    </tr>\n",
       "    <tr>\n",
       "      <th>Actual -</th>\n",
       "      <td>6</td>\n",
       "      <td>1368</td>\n",
       "    </tr>\n",
       "  </tbody>\n",
       "</table>\n",
       "</div>"
      ]
     },
     "execution_count": 0,
     "metadata": {},
     "output_type": "execute_result"
    }
   ],
   "source": [
    "X_train_0102, y_train_0102 = spX_train_norm[month_keys[0]], spy_train[month_keys[0]]\n",
    "X_test_0102, y_test_0102 = spX_test_norm[month_keys[0]], spy_test[month_keys[0]]\n",
    "\n",
    "lo.set_learning_data(\n",
    "    X_train_0102,\n",
    "    y_train_0102,\n",
    "    X_test_0102,\n",
    "    y_test_0102\n",
    ")\n",
    "lo.test_model_performance()\n"
   ]
  },
  {
   "cell_type": "markdown",
   "metadata": {},
   "source": [
    "精度 0.64、F値 0、 Visが800以下となるときを当てられない"
   ]
  },
  {
   "cell_type": "markdown",
   "metadata": {},
   "source": [
    "特徴量選択  \n",
    "以下の要素を使用  \n",
    "日付（month, day, hour）  \n",
    "地上の気温、気圧。風向、湿度、雲量  \n",
    "850, 700, 500hPaの気温、風向、湿度"
   ]
  },
  {
   "cell_type": "code",
   "execution_count": 116,
   "metadata": {},
   "outputs": [
    {
     "name": "stdout",
     "output_type": "stream",
     "text": [
      "Test Accuracy: 0.68\nTest F value : 0.00\n"
     ]
    },
    {
     "data": {
      "text/html": [
       "<div>\n",
       "<style scoped>\n",
       "    .dataframe tbody tr th:only-of-type {\n",
       "        vertical-align: middle;\n",
       "    }\n",
       "\n",
       "    .dataframe tbody tr th {\n",
       "        vertical-align: top;\n",
       "    }\n",
       "\n",
       "    .dataframe thead th {\n",
       "        text-align: right;\n",
       "    }\n",
       "</style>\n",
       "<table border=\"1\" class=\"dataframe\">\n",
       "  <thead>\n",
       "    <tr style=\"text-align: right;\">\n",
       "      <th></th>\n",
       "      <th>Predicted +</th>\n",
       "      <th>Predicted -</th>\n",
       "    </tr>\n",
       "  </thead>\n",
       "  <tbody>\n",
       "    <tr>\n",
       "      <th>Actual +</th>\n",
       "      <td>0</td>\n",
       "      <td>21</td>\n",
       "    </tr>\n",
       "    <tr>\n",
       "      <th>Actual -</th>\n",
       "      <td>22</td>\n",
       "      <td>1352</td>\n",
       "    </tr>\n",
       "  </tbody>\n",
       "</table>\n",
       "</div>"
      ],
      "text/plain": [
       "<div>\n",
       "<style scoped>\n",
       "    .dataframe tbody tr th:only-of-type {\n",
       "        vertical-align: middle;\n",
       "    }\n",
       "\n",
       "    .dataframe tbody tr th {\n",
       "        vertical-align: top;\n",
       "    }\n",
       "\n",
       "    .dataframe thead th {\n",
       "        text-align: right;\n",
       "    }\n",
       "</style>\n",
       "<table border=\"1\" class=\"dataframe\">\n",
       "  <thead>\n",
       "    <tr style=\"text-align: right;\">\n",
       "      <th></th>\n",
       "      <th>Predicted +</th>\n",
       "      <th>Predicted -</th>\n",
       "    </tr>\n",
       "  </thead>\n",
       "  <tbody>\n",
       "    <tr>\n",
       "      <th>Actual +</th>\n",
       "      <td>0</td>\n",
       "      <td>21</td>\n",
       "    </tr>\n",
       "    <tr>\n",
       "      <th>Actual -</th>\n",
       "      <td>22</td>\n",
       "      <td>1352</td>\n",
       "    </tr>\n",
       "  </tbody>\n",
       "</table>\n",
       "</div>"
      ]
     },
     "execution_count": 0,
     "metadata": {},
     "output_type": "execute_result"
    }
   ],
   "source": [
    "selected_fets = [\n",
    "    'month',\n",
    "    'day',\n",
    "    'hour',\n",
    "    'Pressure reduced to MSL',\n",
    "    'u-component of wind',\n",
    "    'v-component of wind',\n",
    "    'Temperature',\n",
    "    'Relative humidity',\n",
    "    'Low cloud cover',\n",
    "    'Medium cloud cover',\n",
    "    'High cloud cover',\n",
    "    'Total cloud cover',\n",
    "    'u-co850',\n",
    "    'v-co850',\n",
    "    'Temp850',\n",
    "    'Rela850',\n",
    "    'u-co700',\n",
    "    'v-co700',\n",
    "    'Temp700',\n",
    "    'Rela700',\n",
    "    'Geop500',\n",
    "    'u-co500',\n",
    "    'v-co500',\n",
    "    'Temp500',\n",
    "    'Rela500'\n",
    "]\n",
    "\n",
    "X_train_0102, y_train_0102 = spX_train_norm[month_keys[0]][selected_fets], spy_train[month_keys[0]]\n",
    "X_test_0102, y_test_0102 = spX_test_norm[month_keys[0]][selected_fets], spy_test[month_keys[0]]\n",
    "\n",
    "clf = GaussianNB()\n",
    "lo.set_learning_data(\n",
    "    X_train_0102,\n",
    "    y_train_0102,\n",
    "    X_test_0102,\n",
    "    y_test_0102\n",
    ")\n",
    "\n",
    "lo.test_model_performance()\n"
   ]
  },
  {
   "cell_type": "markdown",
   "metadata": {},
   "source": [
    "変わらない  \n",
    "  \n",
    "次は全要素の中からVisとの相関が高い要素を選んでみる  \n",
    "相関値の大きい上位10,30,50要素を選択し、それぞれ実験する"
   ]
  },
  {
   "cell_type": "markdown",
   "metadata": {},
   "source": [
    "上位10要素"
   ]
  },
  {
   "cell_type": "code",
   "execution_count": 129,
   "metadata": {},
   "outputs": [
    {
     "name": "stdout",
     "output_type": "stream",
     "text": [
      "Features :\n ['Low cloud cover', 'Rela925', 'Rela900', 'Rela950', 'Total precipitation', 'Rela850', 'Rela975', 'Rela800', 'Rela1000', 'Medium cloud cover']\n\nTest Accuracy: 0.69\nTest F value : 0.08\n"
     ]
    },
    {
     "data": {
      "text/html": [
       "<div>\n",
       "<style scoped>\n",
       "    .dataframe tbody tr th:only-of-type {\n",
       "        vertical-align: middle;\n",
       "    }\n",
       "\n",
       "    .dataframe tbody tr th {\n",
       "        vertical-align: top;\n",
       "    }\n",
       "\n",
       "    .dataframe thead th {\n",
       "        text-align: right;\n",
       "    }\n",
       "</style>\n",
       "<table border=\"1\" class=\"dataframe\">\n",
       "  <thead>\n",
       "    <tr style=\"text-align: right;\">\n",
       "      <th></th>\n",
       "      <th>Predicted +</th>\n",
       "      <th>Predicted -</th>\n",
       "    </tr>\n",
       "  </thead>\n",
       "  <tbody>\n",
       "    <tr>\n",
       "      <th>Actual +</th>\n",
       "      <td>1</td>\n",
       "      <td>20</td>\n",
       "    </tr>\n",
       "    <tr>\n",
       "      <th>Actual -</th>\n",
       "      <td>2</td>\n",
       "      <td>1372</td>\n",
       "    </tr>\n",
       "  </tbody>\n",
       "</table>\n",
       "</div>"
      ],
      "text/plain": [
       "<div>\n",
       "<style scoped>\n",
       "    .dataframe tbody tr th:only-of-type {\n",
       "        vertical-align: middle;\n",
       "    }\n",
       "\n",
       "    .dataframe tbody tr th {\n",
       "        vertical-align: top;\n",
       "    }\n",
       "\n",
       "    .dataframe thead th {\n",
       "        text-align: right;\n",
       "    }\n",
       "</style>\n",
       "<table border=\"1\" class=\"dataframe\">\n",
       "  <thead>\n",
       "    <tr style=\"text-align: right;\">\n",
       "      <th></th>\n",
       "      <th>Predicted +</th>\n",
       "      <th>Predicted -</th>\n",
       "    </tr>\n",
       "  </thead>\n",
       "  <tbody>\n",
       "    <tr>\n",
       "      <th>Actual +</th>\n",
       "      <td>1</td>\n",
       "      <td>20</td>\n",
       "    </tr>\n",
       "    <tr>\n",
       "      <th>Actual -</th>\n",
       "      <td>2</td>\n",
       "      <td>1372</td>\n",
       "    </tr>\n",
       "  </tbody>\n",
       "</table>\n",
       "</div>"
      ]
     },
     "execution_count": 0,
     "metadata": {},
     "output_type": "execute_result"
    }
   ],
   "source": [
    "from skynet.mlcore.feature_selection.filter import pearson_correlation\n",
    "\n",
    "fets_corr = pearson_correlation(\n",
    "    spX_train_norm[month_keys[0]],\n",
    "    spy_train[month_keys[0]],\n",
    "    depth=10\n",
    ")\n",
    "\n",
    "print('Features :\\n', fets_corr)\n",
    "print()\n",
    "\n",
    "X_train_0102, y_train_0102 = spX_train_norm[month_keys[0]][fets_corr], spy_train[month_keys[0]]\n",
    "X_test_0102, y_test_0102 = spX_test_norm[month_keys[0]][fets_corr], spy_test[month_keys[0]]\n",
    "\n",
    "lo.set_learning_data(\n",
    "    X_train_0102,\n",
    "    y_train_0102,\n",
    "    X_test_0102,\n",
    "    y_test_0102\n",
    ")\n",
    "lo.test_model_performance()\n"
   ]
  },
  {
   "cell_type": "markdown",
   "metadata": {},
   "source": [
    "上位30要素"
   ]
  },
  {
   "cell_type": "code",
   "execution_count": 118,
   "metadata": {},
   "outputs": [
    {
     "name": "stdout",
     "output_type": "stream",
     "text": [
      "Features :\n ['Low cloud cover', 'Rela925', 'Rela900', 'Rela950', 'Total precipitation', 'Rela850', 'Rela975', 'Rela800', 'Rela1000', 'Medium cloud cover', 'Total cloud cover', 'Geop1000', 'Pressure reduced to MSL', 'Pressure', 'Rela700', 'Geop975', 'Geop950', 'Geop925', 'Geop900', 'Temperature', 'v-component of wind', 'Geop850', 'Temp950', 'Temp925', 'Temp900', 'Temp975', 'Temp1000', 'Rela600', 'Vert400', 'Temp850']\n\nTest Accuracy: 0.67\nTest F value : 0.00\n"
     ]
    },
    {
     "data": {
      "text/html": [
       "<div>\n",
       "<style scoped>\n",
       "    .dataframe tbody tr th:only-of-type {\n",
       "        vertical-align: middle;\n",
       "    }\n",
       "\n",
       "    .dataframe tbody tr th {\n",
       "        vertical-align: top;\n",
       "    }\n",
       "\n",
       "    .dataframe thead th {\n",
       "        text-align: right;\n",
       "    }\n",
       "</style>\n",
       "<table border=\"1\" class=\"dataframe\">\n",
       "  <thead>\n",
       "    <tr style=\"text-align: right;\">\n",
       "      <th></th>\n",
       "      <th>Predicted +</th>\n",
       "      <th>Predicted -</th>\n",
       "    </tr>\n",
       "  </thead>\n",
       "  <tbody>\n",
       "    <tr>\n",
       "      <th>Actual +</th>\n",
       "      <td>0</td>\n",
       "      <td>21</td>\n",
       "    </tr>\n",
       "    <tr>\n",
       "      <th>Actual -</th>\n",
       "      <td>6</td>\n",
       "      <td>1368</td>\n",
       "    </tr>\n",
       "  </tbody>\n",
       "</table>\n",
       "</div>"
      ],
      "text/plain": [
       "<div>\n",
       "<style scoped>\n",
       "    .dataframe tbody tr th:only-of-type {\n",
       "        vertical-align: middle;\n",
       "    }\n",
       "\n",
       "    .dataframe tbody tr th {\n",
       "        vertical-align: top;\n",
       "    }\n",
       "\n",
       "    .dataframe thead th {\n",
       "        text-align: right;\n",
       "    }\n",
       "</style>\n",
       "<table border=\"1\" class=\"dataframe\">\n",
       "  <thead>\n",
       "    <tr style=\"text-align: right;\">\n",
       "      <th></th>\n",
       "      <th>Predicted +</th>\n",
       "      <th>Predicted -</th>\n",
       "    </tr>\n",
       "  </thead>\n",
       "  <tbody>\n",
       "    <tr>\n",
       "      <th>Actual +</th>\n",
       "      <td>0</td>\n",
       "      <td>21</td>\n",
       "    </tr>\n",
       "    <tr>\n",
       "      <th>Actual -</th>\n",
       "      <td>6</td>\n",
       "      <td>1368</td>\n",
       "    </tr>\n",
       "  </tbody>\n",
       "</table>\n",
       "</div>"
      ]
     },
     "execution_count": 0,
     "metadata": {},
     "output_type": "execute_result"
    }
   ],
   "source": [
    "fets_corr = pearson_correlation(\n",
    "    spX_train_norm[month_keys[0]],\n",
    "    spy_train[month_keys[0]],\n",
    "    depth=30\n",
    ")\n",
    "\n",
    "print('Features :\\n', fets_corr)\n",
    "print()\n",
    "\n",
    "X_train_0102, y_train_0102 = spX_train_norm[month_keys[0]][fets_corr], spy_train[month_keys[0]]\n",
    "X_test_0102, y_test_0102 = spX_test_norm[month_keys[0]][fets_corr], spy_test[month_keys[0]]\n",
    "\n",
    "lo.set_learning_data(\n",
    "    X_train_0102,\n",
    "    y_train_0102,\n",
    "    X_test_0102,\n",
    "    y_test_0102\n",
    ")\n",
    "lo.test_model_performance()\n"
   ]
  },
  {
   "cell_type": "markdown",
   "metadata": {},
   "source": [
    "上位50要素"
   ]
  },
  {
   "cell_type": "code",
   "execution_count": 119,
   "metadata": {},
   "outputs": [
    {
     "name": "stdout",
     "output_type": "stream",
     "text": [
      "Features :\n ['Low cloud cover', 'Rela925', 'Rela900', 'Rela950', 'Total precipitation', 'Rela850', 'Rela975', 'Rela800', 'Rela1000', 'Medium cloud cover', 'Total cloud cover', 'Geop1000', 'Pressure reduced to MSL', 'Pressure', 'Rela700', 'Geop975', 'Geop950', 'Geop925', 'Geop900', 'Temperature', 'v-component of wind', 'Geop850', 'Temp950', 'Temp925', 'Temp900', 'Temp975', 'Temp1000', 'Rela600', 'Vert400', 'Temp850', 'Geop800', 'v-co1000', 'Temp800', 'Relative humidity', 'v-co975', 'u-co600', 'v-co950', 'Vert500', 'Geop700', 'Vert950', 'Vert300', 'Vert925', 'Rela500', 'u-co500', 'Temp700', 'v-co925', 'u-co700', 'Temp300', 'v-co900', 'Vert900']\n\nTest Accuracy: 0.65\nTest F value : 0.00\n"
     ]
    },
    {
     "data": {
      "text/html": [
       "<div>\n",
       "<style scoped>\n",
       "    .dataframe tbody tr th:only-of-type {\n",
       "        vertical-align: middle;\n",
       "    }\n",
       "\n",
       "    .dataframe tbody tr th {\n",
       "        vertical-align: top;\n",
       "    }\n",
       "\n",
       "    .dataframe thead th {\n",
       "        text-align: right;\n",
       "    }\n",
       "</style>\n",
       "<table border=\"1\" class=\"dataframe\">\n",
       "  <thead>\n",
       "    <tr style=\"text-align: right;\">\n",
       "      <th></th>\n",
       "      <th>Predicted +</th>\n",
       "      <th>Predicted -</th>\n",
       "    </tr>\n",
       "  </thead>\n",
       "  <tbody>\n",
       "    <tr>\n",
       "      <th>Actual +</th>\n",
       "      <td>0</td>\n",
       "      <td>21</td>\n",
       "    </tr>\n",
       "    <tr>\n",
       "      <th>Actual -</th>\n",
       "      <td>12</td>\n",
       "      <td>1362</td>\n",
       "    </tr>\n",
       "  </tbody>\n",
       "</table>\n",
       "</div>"
      ],
      "text/plain": [
       "<div>\n",
       "<style scoped>\n",
       "    .dataframe tbody tr th:only-of-type {\n",
       "        vertical-align: middle;\n",
       "    }\n",
       "\n",
       "    .dataframe tbody tr th {\n",
       "        vertical-align: top;\n",
       "    }\n",
       "\n",
       "    .dataframe thead th {\n",
       "        text-align: right;\n",
       "    }\n",
       "</style>\n",
       "<table border=\"1\" class=\"dataframe\">\n",
       "  <thead>\n",
       "    <tr style=\"text-align: right;\">\n",
       "      <th></th>\n",
       "      <th>Predicted +</th>\n",
       "      <th>Predicted -</th>\n",
       "    </tr>\n",
       "  </thead>\n",
       "  <tbody>\n",
       "    <tr>\n",
       "      <th>Actual +</th>\n",
       "      <td>0</td>\n",
       "      <td>21</td>\n",
       "    </tr>\n",
       "    <tr>\n",
       "      <th>Actual -</th>\n",
       "      <td>12</td>\n",
       "      <td>1362</td>\n",
       "    </tr>\n",
       "  </tbody>\n",
       "</table>\n",
       "</div>"
      ]
     },
     "execution_count": 0,
     "metadata": {},
     "output_type": "execute_result"
    }
   ],
   "source": [
    "fets_corr = pearson_correlation(\n",
    "    spX_train_norm[month_keys[0]],\n",
    "    spy_train[month_keys[0]],\n",
    "    depth=50\n",
    ")\n",
    "\n",
    "print('Features :\\n', fets_corr)\n",
    "print()\n",
    "\n",
    "X_train_0102 = spX_train_norm[month_keys[0]][fets_corr]\n",
    "X_test_0102 = spX_test_norm[month_keys[0]][fets_corr]\n",
    "\n",
    "lo.set_learning_data(\n",
    "    X_train_0102,\n",
    "    y_train_0102,\n",
    "    X_test_0102,\n",
    "    y_test_0102\n",
    ")\n",
    "lo.test_model_performance()\n"
   ]
  },
  {
   "cell_type": "markdown",
   "metadata": {},
   "source": [
    "上位10要素を選んだときは少し良くなってる"
   ]
  },
  {
   "cell_type": "markdown",
   "metadata": {},
   "source": [
    "学習データの分布についても考えてみる  \n",
    "カテゴリ8(Visが9999以上)のデータ数が他のカテゴリのデータ数に比べ多すぎるのでバランスするよう調整"
   ]
  },
  {
   "cell_type": "code",
   "execution_count": 121,
   "metadata": {},
   "outputs": [
    {
     "data": {
      "text/plain": [
       "(array([   81.,   101.,    68.,    51.,    44.,    82.,    27.,    43.,\n         2330.]),\n array([ 0.        ,  0.88888889,  1.77777778,  2.66666667,  3.55555556,\n         4.44444444,  5.33333333,  6.22222222,  7.11111111,  8.        ]),\n <a list of 9 Patch objects>)"
      ]
     },
     "execution_count": 121,
     "metadata": {},
     "output_type": "execute_result"
    },
    {
     "data": {
      "image/png": "[encoded data removed]",
      "text/plain": [
       "<matplotlib.figure.Figure at 0x1a161b77f0>"
      ]
     },
     "metadata": {},
     "output_type": "display_data"
    }
   ],
   "source": [
    "plt.hist(y_train_0102, bins=9)\n"
   ]
  },
  {
   "cell_type": "code",
   "execution_count": 147,
   "metadata": {},
   "outputs": [
    {
     "data": {
      "text/plain": [
       "(array([  81.,  101.,   68.,   51.,   44.,   82.,   27.,   43.,  101.]),\n array([ 0.        ,  0.88888889,  1.77777778,  2.66666667,  3.55555556,\n         4.44444444,  5.33333333,  6.22222222,  7.11111111,  8.        ]),\n <a list of 9 Patch objects>)"
      ]
     },
     "execution_count": 147,
     "metadata": {},
     "output_type": "execute_result"
    },
    {
     "data": {
      "image/png": "[encoded data removed]",
      "text/plain": [
       "<matplotlib.figure.Figure at 0x1a18629c50>"
      ]
     },
     "metadata": {},
     "output_type": "display_data"
    }
   ],
   "source": [
    "X_train_0102, y_train_0102 = skyds.convert.balanced(\n",
    "    spX_train_norm[month_keys[0]], spy_train[month_keys[0]], seed=32\n",
    ")\n",
    "\n",
    "plt.hist(y_train_0102, bins=9)\n"
   ]
  },
  {
   "cell_type": "markdown",
   "metadata": {},
   "source": [
    "再学習  \n",
    "Visと相関の高い要素を順々に採用する"
   ]
  },
  {
   "cell_type": "code",
   "execution_count": 148,
   "metadata": {},
   "outputs": [
    {
     "name": "stderr",
     "output_type": "stream",
     "text": [
      "/anaconda3/lib/python3.6/site-packages/sklearn/metrics/classification.py:1135: UndefinedMetricWarning: F-score is ill-defined and being set to 0.0 due to no predicted samples.\n  'precision', 'predicted', average, warn_for)\n"
     ]
    },
    {
     "data": {
      "text/plain": [
       "[<matplotlib.lines.Line2D at 0x1a1ae23080>]"
      ]
     },
     "execution_count": 148,
     "metadata": {},
     "output_type": "execute_result"
    },
    {
     "data": {
      "text/plain": [
       "[<matplotlib.lines.Line2D at 0x1a199c6be0>]"
      ]
     },
     "execution_count": 148,
     "metadata": {},
     "output_type": "execute_result"
    },
    {
     "data": {
      "text/plain": [
       "<matplotlib.legend.Legend at 0x1a1ae23550>"
      ]
     },
     "execution_count": 148,
     "metadata": {},
     "output_type": "execute_result"
    },
    {
     "name": "stdout",
     "output_type": "stream",
     "text": [
      "number of feature for max accuracy : 28\nnumber of feature for max f1 : 11\n"
     ]
    },
    {
     "data": {
      "image/png": "[encoded data removed]",
      "text/plain": [
       "<matplotlib.figure.Figure at 0x1a18e9eba8>"
      ]
     },
     "metadata": {},
     "output_type": "display_data"
    }
   ],
   "source": [
    "X_test_0102, y_test_0102 = spX_test_norm[month_keys[0]], spy_test[month_keys[0]]\n",
    "acc, f1 = lo.fwsearch(X_train_0102, y_train_0102, X_test_0102, y_test_0102, filter_method='corr')\n",
    "\n",
    "plt.plot(acc, label='accuracy')\n",
    "plt.plot(f1, label='f1')\n",
    "plt.legend()\n",
    "\n",
    "print('number of feature for max accuracy :', acc.argmax() + 1)\n",
    "print('number of feature for max f1 :', f1.argmax() + 1)\n"
   ]
  },
  {
   "cell_type": "markdown",
   "metadata": {},
   "source": [
    "F値が最大となる特徴量の組み合わせを採用"
   ]
  },
  {
   "cell_type": "code",
   "execution_count": 304,
   "metadata": {},
   "outputs": [
    {
     "name": "stdout",
     "output_type": "stream",
     "text": [
      "['Rela900', 'Rela850', 'Rela925', 'Rela800', 'Rela950', 'Low cloud cover', 'Rela975', 'Rela1000', 'Medium cloud cover', 'Total cloud cover', 'Rela600']\nTest Accuracy: 0.60\nTest F value : 0.29\n"
     ]
    },
    {
     "data": {
      "text/html": [
       "<div>\n",
       "<style scoped>\n",
       "    .dataframe tbody tr th:only-of-type {\n",
       "        vertical-align: middle;\n",
       "    }\n",
       "\n",
       "    .dataframe tbody tr th {\n",
       "        vertical-align: top;\n",
       "    }\n",
       "\n",
       "    .dataframe thead th {\n",
       "        text-align: right;\n",
       "    }\n",
       "</style>\n",
       "<table border=\"1\" class=\"dataframe\">\n",
       "  <thead>\n",
       "    <tr style=\"text-align: right;\">\n",
       "      <th></th>\n",
       "      <th>Predicted +</th>\n",
       "      <th>Predicted -</th>\n",
       "    </tr>\n",
       "  </thead>\n",
       "  <tbody>\n",
       "    <tr>\n",
       "      <th>Actual +</th>\n",
       "      <td>5</td>\n",
       "      <td>16</td>\n",
       "    </tr>\n",
       "    <tr>\n",
       "      <th>Actual -</th>\n",
       "      <td>9</td>\n",
       "      <td>1365</td>\n",
       "    </tr>\n",
       "  </tbody>\n",
       "</table>\n",
       "</div>"
      ],
      "text/plain": [
       "<div>\n",
       "<style scoped>\n",
       "    .dataframe tbody tr th:only-of-type {\n",
       "        vertical-align: middle;\n",
       "    }\n",
       "\n",
       "    .dataframe tbody tr th {\n",
       "        vertical-align: top;\n",
       "    }\n",
       "\n",
       "    .dataframe thead th {\n",
       "        text-align: right;\n",
       "    }\n",
       "</style>\n",
       "<table border=\"1\" class=\"dataframe\">\n",
       "  <thead>\n",
       "    <tr style=\"text-align: right;\">\n",
       "      <th></th>\n",
       "      <th>Predicted +</th>\n",
       "      <th>Predicted -</th>\n",
       "    </tr>\n",
       "  </thead>\n",
       "  <tbody>\n",
       "    <tr>\n",
       "      <th>Actual +</th>\n",
       "      <td>5</td>\n",
       "      <td>16</td>\n",
       "    </tr>\n",
       "    <tr>\n",
       "      <th>Actual -</th>\n",
       "      <td>9</td>\n",
       "      <td>1365</td>\n",
       "    </tr>\n",
       "  </tbody>\n",
       "</table>\n",
       "</div>"
      ]
     },
     "execution_count": 0,
     "metadata": {},
     "output_type": "execute_result"
    }
   ],
   "source": [
    "selected_fets = pearson_correlation(\n",
    "    X_train_0102,\n",
    "    y_train_0102,\n",
    "    depth=11\n",
    ")\n",
    "print(selected_fets)\n",
    "\n",
    "lo.set_learning_data(\n",
    "    X_train_0102[selected_fets],\n",
    "    y_train_0102,\n",
    "    spX_test_norm[month_keys[0]][selected_fets],\n",
    "    y_test_0102\n",
    ")\n",
    "lo.test_model_performance()\n"
   ]
  },
  {
   "cell_type": "markdown",
   "metadata": {},
   "source": [
    "時刻を周期関数で正規化"
   ]
  },
  {
   "cell_type": "code",
   "execution_count": 305,
   "metadata": {},
   "outputs": [
    {
     "name": "stdout",
     "output_type": "stream",
     "text": [
      "Test Accuracy: 0.60\nTest F value : 0.26\n"
     ]
    },
    {
     "data": {
      "text/html": [
       "<div>\n",
       "<style scoped>\n",
       "    .dataframe tbody tr th:only-of-type {\n",
       "        vertical-align: middle;\n",
       "    }\n",
       "\n",
       "    .dataframe tbody tr th {\n",
       "        vertical-align: top;\n",
       "    }\n",
       "\n",
       "    .dataframe thead th {\n",
       "        text-align: right;\n",
       "    }\n",
       "</style>\n",
       "<table border=\"1\" class=\"dataframe\">\n",
       "  <thead>\n",
       "    <tr style=\"text-align: right;\">\n",
       "      <th></th>\n",
       "      <th>Predicted +</th>\n",
       "      <th>Predicted -</th>\n",
       "    </tr>\n",
       "  </thead>\n",
       "  <tbody>\n",
       "    <tr>\n",
       "      <th>Actual +</th>\n",
       "      <td>5</td>\n",
       "      <td>16</td>\n",
       "    </tr>\n",
       "    <tr>\n",
       "      <th>Actual -</th>\n",
       "      <td>13</td>\n",
       "      <td>1361</td>\n",
       "    </tr>\n",
       "  </tbody>\n",
       "</table>\n",
       "</div>"
      ],
      "text/plain": [
       "<div>\n",
       "<style scoped>\n",
       "    .dataframe tbody tr th:only-of-type {\n",
       "        vertical-align: middle;\n",
       "    }\n",
       "\n",
       "    .dataframe tbody tr th {\n",
       "        vertical-align: top;\n",
       "    }\n",
       "\n",
       "    .dataframe thead th {\n",
       "        text-align: right;\n",
       "    }\n",
       "</style>\n",
       "<table border=\"1\" class=\"dataframe\">\n",
       "  <thead>\n",
       "    <tr style=\"text-align: right;\">\n",
       "      <th></th>\n",
       "      <th>Predicted +</th>\n",
       "      <th>Predicted -</th>\n",
       "    </tr>\n",
       "  </thead>\n",
       "  <tbody>\n",
       "    <tr>\n",
       "      <th>Actual +</th>\n",
       "      <td>5</td>\n",
       "      <td>16</td>\n",
       "    </tr>\n",
       "    <tr>\n",
       "      <th>Actual -</th>\n",
       "      <td>13</td>\n",
       "      <td>1361</td>\n",
       "    </tr>\n",
       "  </tbody>\n",
       "</table>\n",
       "</div>"
      ]
     },
     "execution_count": 0,
     "metadata": {},
     "output_type": "execute_result"
    }
   ],
   "source": [
    "X_train_0102, y_train_0102 = skyds.convert.balanced(\n",
    "    spX_train_norm[month_keys[0]], spy_train[month_keys[0]], seed=32\n",
    ")\n",
    "\n",
    "selected_fets = pearson_correlation(X_train_0102, y_train_0102, depth=11)\n",
    "\n",
    "X_train_0102 = npd.NWPFrame(X_train_0102)\n",
    "X_train_0102.sine(column='hour', drop=True, inplace=True)\n",
    "\n",
    "X_test_0102 = npd.NWPFrame(spX_test_norm[month_keys[0]])\n",
    "X_test_0102.sine(column='hour', drop=True, inplace=True)\n",
    "\n",
    "selected_fets += ['sine_hour']\n",
    "\n",
    "X_train_0102 = X_train_0102[selected_fets]\n",
    "X_test_0102 = X_test_0102[selected_fets]\n",
    "\n",
    "lo.set_learning_data(\n",
    "    X_train_0102,\n",
    "    y_train_0102,\n",
    "    X_test_0102,\n",
    "    y_test_0102\n",
    ")\n",
    "lo.test_model_performance()\n"
   ]
  },
  {
   "cell_type": "markdown",
   "metadata": {},
   "source": [
    "あまり変わらない"
   ]
  },
  {
   "cell_type": "markdown",
   "metadata": {},
   "source": [
    "風向を16段階に変換"
   ]
  },
  {
   "cell_type": "code",
   "execution_count": 32,
   "metadata": {
    "collapsed": false
   },
   "outputs": [
    {
     "name": "stderr",
     "output_type": "stream",
     "text": [
      "/anaconda3/lib/python3.6/site-packages/sklearn/metrics/classification.py:1135: UndefinedMetricWarning: F-score is ill-defined and being set to 0.0 due to no predicted samples.\n  'precision', 'predicted', average, warn_for)\n"
     ]
    },
    {
     "data": {
      "text/plain": [
       "[<matplotlib.lines.Line2D at 0x1a1e6f1240>]"
      ]
     },
     "execution_count": 32,
     "metadata": {},
     "output_type": "execute_result"
    },
    {
     "data": {
      "text/plain": [
       "[<matplotlib.lines.Line2D at 0x1a1fe41278>]"
      ]
     },
     "execution_count": 32,
     "metadata": {},
     "output_type": "execute_result"
    },
    {
     "data": {
      "text/plain": [
       "<matplotlib.legend.Legend at 0x1a1e6f1710>"
      ]
     },
     "execution_count": 32,
     "metadata": {},
     "output_type": "execute_result"
    },
    {
     "name": "stdout",
     "output_type": "stream",
     "text": [
      "number of feature for max accuracy : 31\nnumber of feature for max f1 : 22\n"
     ]
    },
    {
     "data": {
      "image/png": "[encoded data removed]",
      "text/plain": [
       "<matplotlib.figure.Figure at 0x1a1d607c50>"
      ]
     },
     "metadata": {},
     "output_type": "display_data"
    }
   ],
   "source": [
    "X_train_0102, y_train_0102 = spX_train_norm[month_keys[0]], spy_train[month_keys[0]]\n",
    "X_test_0102, y_test_0102 = spX_test_norm[month_keys[0]], spy_test[month_keys[0]]\n",
    "\n",
    "lo.set_learning_data(\n",
    "    X_train_0102,\n",
    "    y_train_0102,\n",
    "    X_test_0102,\n",
    "    y_test_0102\n",
    ")\n",
    "lo.convert_wind_dir()\n",
    "\n",
    "X_train_0102, y_train_0102 = skyds.convert.balanced(lo.X_train, lo.y_train)\n",
    "\n",
    "acc, f1 = lo.fwsearch(X_train_0102, y_train_0102, lo.X_test, lo.y_test)\n",
    "\n",
    "plt.plot(acc, label='accuracy')\n",
    "plt.plot(f1, label='f1')\n",
    "plt.legend()\n",
    "\n",
    "print('number of feature for max accuracy :', acc.argmax() + 1)\n",
    "print('number of feature for max f1 :', f1.argmax() + 1)"
   ]
  },
  {
   "cell_type": "markdown",
   "metadata": {},
   "source": [
    "F値の最大値は0.2程度"
   ]
  },
  {
   "cell_type": "markdown",
   "metadata": {},
   "source": [
    "特徴量をもう少し工夫する  \n",
    "ある要素を気圧面に対して畳み込んで特徴量に追加  \n",
    "フィルターはスムージングとエッジ  \n",
    "まずは湿度について"
   ]
  },
  {
   "cell_type": "code",
   "execution_count": 22,
   "metadata": {
    "collapsed": false
   },
   "outputs": [
    {
     "data": {
      "text/plain": [
       "[<matplotlib.lines.Line2D at 0x115bbb1d0>]"
      ]
     },
     "execution_count": 22,
     "metadata": {},
     "output_type": "execute_result"
    },
    {
     "data": {
      "text/plain": [
       "[<matplotlib.lines.Line2D at 0x115bbb668>]"
      ]
     },
     "execution_count": 22,
     "metadata": {},
     "output_type": "execute_result"
    },
    {
     "data": {
      "image/png": "[encoded data removed]",
      "text/plain": [
       "<matplotlib.figure.Figure at 0x116232358>"
      ]
     },
     "metadata": {},
     "output_type": "display_data"
    }
   ],
   "source": [
    "X_train_0102, y_train_0102 = spX_train_norm[month_keys[0]], spy_train[month_keys[0]]\n",
    "X_test_0102, y_test_0102 = spX_test_norm[month_keys[0]], spy_test[month_keys[0]]\n",
    "\n",
    "lo.set_learning_data(\n",
    "    X_train_0102,\n",
    "    y_train_0102,\n",
    "    X_test_0102,\n",
    "    y_test_0102\n",
    ")\n",
    "\n",
    "lo.convert_wind_dir()\n",
    "\n",
    "X_train_0102 = npd.NWPFrame(lo.X_train)\n",
    "X_test_0102 = npd.NWPFrame(lo.X_test)\n",
    "\n",
    "X_train_0102.conv(kernel=np.ones((1, 3)) / 3, mode='same', axis=1, pattern='Rela', inplace=True)\n",
    "X_test_0102.conv(kernel=np.ones((1, 3)) / 3, mode='same', axis=1, pattern='Rela', inplace=True)\n",
    "\n",
    "rela_keys = X_train_0102.match_keys('Rela')\n",
    "rela = X_train_0102[rela_keys].loc[0].values\n",
    "\n",
    "conv_rela_keys = X_train_0102.match_keys('conv')\n",
    "conv_rela = X_train_0102[conv_rela_keys].loc[0].values\n",
    "\n",
    "plt.plot(rela)\n",
    "plt.plot(conv_rela)\n",
    "\n",
    "X_train_0102, y_train_0102 = skyds.convert.balanced(\n",
    "    pd.DataFrame(X_train_0102), y_train_0102, seed=32\n",
    ")\n"
   ]
  },
  {
   "cell_type": "markdown",
   "metadata": {},
   "source": [
    "探索"
   ]
  },
  {
   "cell_type": "code",
   "execution_count": 25,
   "metadata": {
    "collapsed": false
   },
   "outputs": [
    {
     "name": "stderr",
     "output_type": "stream",
     "text": [
      "/anaconda3/lib/python3.6/site-packages/sklearn/metrics/classification.py:1135: UndefinedMetricWarning: F-score is ill-defined and being set to 0.0 due to no predicted samples.\n  'precision', 'predicted', average, warn_for)\n"
     ]
    },
    {
     "data": {
      "text/plain": [
       "[<matplotlib.lines.Line2D at 0x1a1e232eb8>]"
      ]
     },
     "execution_count": 25,
     "metadata": {},
     "output_type": "execute_result"
    },
    {
     "data": {
      "text/plain": [
       "[<matplotlib.lines.Line2D at 0x116462400>]"
      ]
     },
     "execution_count": 25,
     "metadata": {},
     "output_type": "execute_result"
    },
    {
     "data": {
      "text/plain": [
       "<matplotlib.legend.Legend at 0x1a1d5f53c8>"
      ]
     },
     "execution_count": 25,
     "metadata": {},
     "output_type": "execute_result"
    },
    {
     "name": "stdout",
     "output_type": "stream",
     "text": [
      "number of feature for max accuracy : 51\nnumber of feature for max f1 : 25\n"
     ]
    },
    {
     "data": {
      "image/png": "[encoded data removed]",
      "text/plain": [
       "<matplotlib.figure.Figure at 0x110f73320>"
      ]
     },
     "metadata": {},
     "output_type": "display_data"
    }
   ],
   "source": [
    "acc, f1 = lo.fwsearch(X_train_0102, y_train_0102, X_test_0102, y_test_0102, filter_method='corr')\n",
    "\n",
    "plt.plot(acc, label='accuracy')\n",
    "plt.plot(f1, label='f1')\n",
    "plt.legend()\n",
    "\n",
    "print('number of feature for max accuracy :', acc.argmax() + 1)\n",
    "print('number of feature for max f1 :', f1.argmax() + 1)\n"
   ]
  },
  {
   "cell_type": "code",
   "execution_count": 39,
   "metadata": {},
   "outputs": [
    {
     "name": "stdout",
     "output_type": "stream",
     "text": [
      "['conv_Rela_6', 'conv_Rela_5', 'Rela900', 'Rela850', 'Rela925', 'conv_Rela_4', 'conv_Rela_7', 'Rela800', 'conv_Rela_3', 'Rela950', 'Low cloud cover', 'conv_Rela_8', 'conv_Rela_2', 'Rela975', 'Rela1000', 'wind direction', 'Medium cloud cover', 'conv_Rela_1', 'Total cloud cover', 'conv_Rela_0', 'conv_Rela_9', 'Rela600', 'Geop1000', 'Geop975', 'Rela700']\nTest Accuracy: 0.59\nTest F value : 0.36\n"
     ]
    },
    {
     "data": {
      "text/html": [
       "<div>\n",
       "<style scoped>\n",
       "    .dataframe tbody tr th:only-of-type {\n",
       "        vertical-align: middle;\n",
       "    }\n",
       "\n",
       "    .dataframe tbody tr th {\n",
       "        vertical-align: top;\n",
       "    }\n",
       "\n",
       "    .dataframe thead th {\n",
       "        text-align: right;\n",
       "    }\n",
       "</style>\n",
       "<table border=\"1\" class=\"dataframe\">\n",
       "  <thead>\n",
       "    <tr style=\"text-align: right;\">\n",
       "      <th></th>\n",
       "      <th>Predicted +</th>\n",
       "      <th>Predicted -</th>\n",
       "    </tr>\n",
       "  </thead>\n",
       "  <tbody>\n",
       "    <tr>\n",
       "      <th>Actual +</th>\n",
       "      <td>5</td>\n",
       "      <td>16</td>\n",
       "    </tr>\n",
       "    <tr>\n",
       "      <th>Actual -</th>\n",
       "      <td>2</td>\n",
       "      <td>1372</td>\n",
       "    </tr>\n",
       "  </tbody>\n",
       "</table>\n",
       "</div>"
      ],
      "text/plain": [
       "<div>\n",
       "<style scoped>\n",
       "    .dataframe tbody tr th:only-of-type {\n",
       "        vertical-align: middle;\n",
       "    }\n",
       "\n",
       "    .dataframe tbody tr th {\n",
       "        vertical-align: top;\n",
       "    }\n",
       "\n",
       "    .dataframe thead th {\n",
       "        text-align: right;\n",
       "    }\n",
       "</style>\n",
       "<table border=\"1\" class=\"dataframe\">\n",
       "  <thead>\n",
       "    <tr style=\"text-align: right;\">\n",
       "      <th></th>\n",
       "      <th>Predicted +</th>\n",
       "      <th>Predicted -</th>\n",
       "    </tr>\n",
       "  </thead>\n",
       "  <tbody>\n",
       "    <tr>\n",
       "      <th>Actual +</th>\n",
       "      <td>5</td>\n",
       "      <td>16</td>\n",
       "    </tr>\n",
       "    <tr>\n",
       "      <th>Actual -</th>\n",
       "      <td>2</td>\n",
       "      <td>1372</td>\n",
       "    </tr>\n",
       "  </tbody>\n",
       "</table>\n",
       "</div>"
      ]
     },
     "execution_count": 0,
     "metadata": {},
     "output_type": "execute_result"
    }
   ],
   "source": [
    "selected_fets = pearson_correlation(\n",
    "    X_train_0102,\n",
    "    y_train_0102,\n",
    "    depth=25\n",
    ")\n",
    "print(selected_fets)\n",
    "\n",
    "lo.set_learning_data(\n",
    "    X_train_0102[selected_fets],\n",
    "    y_train_0102,\n",
    "    X_test_0102[selected_fets],\n",
    "    y_test_0102\n",
    ")\n",
    "lo.test_model_performance()"
   ]
  },
  {
   "cell_type": "markdown",
   "metadata": {},
   "source": [
    "F値は今までで一番良いスコア"
   ]
  },
  {
   "cell_type": "markdown",
   "metadata": {},
   "source": [
    "気圧面に対する湿度の微分も入れてみる"
   ]
  },
  {
   "cell_type": "code",
   "execution_count": 12,
   "metadata": {},
   "outputs": [
    {
     "name": "stderr",
     "output_type": "stream",
     "text": [
      "/anaconda3/lib/python3.6/site-packages/sklearn/metrics/classification.py:1135: UndefinedMetricWarning: F-score is ill-defined and being set to 0.0 due to no predicted samples.\n  'precision', 'predicted', average, warn_for)\n"
     ]
    },
    {
     "data": {
      "text/plain": [
       "[<matplotlib.lines.Line2D at 0x1c19785f98>]"
      ]
     },
     "execution_count": 12,
     "metadata": {},
     "output_type": "execute_result"
    },
    {
     "data": {
      "text/plain": [
       "[<matplotlib.lines.Line2D at 0x106ece6a0>]"
      ]
     },
     "execution_count": 12,
     "metadata": {},
     "output_type": "execute_result"
    },
    {
     "data": {
      "text/plain": [
       "<matplotlib.legend.Legend at 0x1c1a23b8d0>"
      ]
     },
     "execution_count": 12,
     "metadata": {},
     "output_type": "execute_result"
    },
    {
     "name": "stdout",
     "output_type": "stream",
     "text": [
      "number of feature for max accuracy : 53\nnumber of feature for max f1 : 25\n"
     ]
    },
    {
     "data": {
      "image/png": "[encoded data removed]",
      "text/plain": [
       "<matplotlib.figure.Figure at 0x107086128>"
      ]
     },
     "metadata": {},
     "output_type": "display_data"
    }
   ],
   "source": [
    "X_train_0102, y_train_0102 = spX_train_norm[month_keys[0]], spy_train[month_keys[0]]\n",
    "X_test_0102, y_test_0102 = spX_test_norm[month_keys[0]], spy_test[month_keys[0]]\n",
    "\n",
    "lo.set_learning_data(\n",
    "    X_train_0102,\n",
    "    y_train_0102,\n",
    "    X_test_0102,\n",
    "    y_test_0102\n",
    ")\n",
    "\n",
    "lo.convert_wind_dir()\n",
    "\n",
    "X_train_0102 = npd.NWPFrame(lo.X_train)\n",
    "X_test_0102 = npd.NWPFrame(lo.X_test)\n",
    "\n",
    "X_train_0102.conv(kernel=np.ones((1, 3)) / 3, mode='same', axis=1, pattern='Rela', inplace=True)\n",
    "X_train_0102.grad(axis=1, pattern='Rela', inplace=True)\n",
    "X_test_0102.conv(kernel=np.ones((1, 3)) / 3, mode='same', axis=1, pattern='Rela', inplace=True)\n",
    "X_test_0102.grad(axis=1, pattern='Rela', inplace=True)\n",
    "\n",
    "X_train_0102, y_train_0102 = skyds.convert.balanced(\n",
    "    pd.DataFrame(X_train_0102), y_train_0102, seed=32\n",
    ")\n",
    "\n",
    "acc, f1 = lo.fwsearch(X_train_0102, y_train_0102, X_test_0102, y_test_0102, filter_method='corr')\n",
    "\n",
    "plt.plot(acc, label='accuracy')\n",
    "plt.plot(f1, label='f1')\n",
    "plt.legend()\n",
    "\n",
    "print('number of feature for max accuracy :', acc.argmax() + 1)\n",
    "print('number of feature for max f1 :', f1.argmax() + 1)\n"
   ]
  },
  {
   "cell_type": "code",
   "execution_count": 13,
   "metadata": {},
   "outputs": [
    {
     "name": "stdout",
     "output_type": "stream",
     "text": [
      "['conv_Rela_6', 'conv_Rela_5', 'Rela900', 'Rela850', 'Rela925', 'conv_Rela_4', 'conv_Rela_7', 'Rela800', 'conv_Rela_3', 'Rela950', 'Low cloud cover', 'conv_Rela_8', 'conv_Rela_2', 'Rela975', 'Rela1000', 'wind direction', 'Medium cloud cover', 'conv_Rela_1', 'Total cloud cover', 'conv_Rela_0', 'conv_Rela_9', 'Rela600', 'Geop1000', 'Geop975', 'Rela700']\nTest Accuracy: 0.59\nTest F value : 0.36\n"
     ]
    },
    {
     "data": {
      "text/html": [
       "<div>\n",
       "<style scoped>\n",
       "    .dataframe tbody tr th:only-of-type {\n",
       "        vertical-align: middle;\n",
       "    }\n",
       "\n",
       "    .dataframe tbody tr th {\n",
       "        vertical-align: top;\n",
       "    }\n",
       "\n",
       "    .dataframe thead th {\n",
       "        text-align: right;\n",
       "    }\n",
       "</style>\n",
       "<table border=\"1\" class=\"dataframe\">\n",
       "  <thead>\n",
       "    <tr style=\"text-align: right;\">\n",
       "      <th></th>\n",
       "      <th>Predicted +</th>\n",
       "      <th>Predicted -</th>\n",
       "    </tr>\n",
       "  </thead>\n",
       "  <tbody>\n",
       "    <tr>\n",
       "      <th>Actual +</th>\n",
       "      <td>5</td>\n",
       "      <td>16</td>\n",
       "    </tr>\n",
       "    <tr>\n",
       "      <th>Actual -</th>\n",
       "      <td>2</td>\n",
       "      <td>1372</td>\n",
       "    </tr>\n",
       "  </tbody>\n",
       "</table>\n",
       "</div>"
      ],
      "text/plain": [
       "<div>\n",
       "<style scoped>\n",
       "    .dataframe tbody tr th:only-of-type {\n",
       "        vertical-align: middle;\n",
       "    }\n",
       "\n",
       "    .dataframe tbody tr th {\n",
       "        vertical-align: top;\n",
       "    }\n",
       "\n",
       "    .dataframe thead th {\n",
       "        text-align: right;\n",
       "    }\n",
       "</style>\n",
       "<table border=\"1\" class=\"dataframe\">\n",
       "  <thead>\n",
       "    <tr style=\"text-align: right;\">\n",
       "      <th></th>\n",
       "      <th>Predicted +</th>\n",
       "      <th>Predicted -</th>\n",
       "    </tr>\n",
       "  </thead>\n",
       "  <tbody>\n",
       "    <tr>\n",
       "      <th>Actual +</th>\n",
       "      <td>5</td>\n",
       "      <td>16</td>\n",
       "    </tr>\n",
       "    <tr>\n",
       "      <th>Actual -</th>\n",
       "      <td>2</td>\n",
       "      <td>1372</td>\n",
       "    </tr>\n",
       "  </tbody>\n",
       "</table>\n",
       "</div>"
      ]
     },
     "execution_count": 0,
     "metadata": {},
     "output_type": "execute_result"
    }
   ],
   "source": [
    "selected_fets = pearson_correlation(\n",
    "    X_train_0102,\n",
    "    y_train_0102,\n",
    "    depth=25\n",
    ")\n",
    "print(selected_fets)\n",
    "\n",
    "lo.set_learning_data(\n",
    "    X_train_0102[selected_fets],\n",
    "    y_train_0102,\n",
    "    X_test_0102[selected_fets],\n",
    "    y_test_0102\n",
    ")\n",
    "lo.test_model_performance()"
   ]
  },
  {
   "cell_type": "markdown",
   "metadata": {},
   "source": [
    "微分はあまり効かない"
   ]
  },
  {
   "cell_type": "markdown",
   "metadata": {},
   "source": []
  },
  {
   "cell_type": "code",
   "execution_count": 66,
   "metadata": {},
   "outputs": [
    {
     "data": {
      "text/plain": [
       "[<matplotlib.lines.Line2D at 0x110f002e8>]"
      ]
     },
     "execution_count": 66,
     "metadata": {},
     "output_type": "execute_result"
    },
    {
     "data": {
      "image/png": "[encoded data removed]",
      "text/plain": [
       "<matplotlib.figure.Figure at 0x1a1fdfbef0>"
      ]
     },
     "metadata": {},
     "output_type": "display_data"
    }
   ],
   "source": [
    "lo.reset_learning_data()\n",
    "\n",
    "hours = [6, 7, 8, 9, 10, 11, 12, 13, 14, 15, 16, 17, 18, 19, 20, 21, 22, 23, 0, 1, 2, 3, 4, 5]\n",
    "vis = []\n",
    "collen = 1000000\n",
    "for h in hours:\n",
    "    idx = np.where(lo.X_train['hour'].values == h)[0]\n",
    "    if collen > len(idx): \n",
    "        collen = len(idx)\n",
    "    vis.append(lo.y_train[idx])\n",
    "\n",
    "vis = np.array([v[:collen] for v in vis])\n",
    "\n",
    "corr = np.corrcoef(vis)[0]\n",
    "plt.plot(corr)\n",
    "\n"
   ]
  },
  {
   "cell_type": "markdown",
   "metadata": {},
   "source": [
    "当然ながら先の時間になるほど相関は弱くなる  \n",
    "これを意識して視程の実況値を特徴量に組み込む"
   ]
  },
  {
   "cell_type": "code",
   "execution_count": 88,
   "metadata": {},
   "outputs": [
    {
     "data": {
      "text/plain": [
       "<IPython.core.display.Javascript object>"
      ]
     },
     "execution_count": 0,
     "metadata": {},
     "output_type": "execute_result"
    },
    {
     "data": {
      "text/html": [
       "<div id='97ad9596-6c5a-4208-a368-0d94b94b1d61'></div>"
      ],
      "text/plain": [
       "<div id='97ad9596-6c5a-4208-a368-0d94b94b1d61'></div>"
      ]
     },
     "execution_count": 0,
     "metadata": {},
     "output_type": "execute_result"
    },
    {
     "data": {
      "text/plain": [
       "[<matplotlib.lines.Line2D at 0x1c1dae4e80>]"
      ]
     },
     "execution_count": 88,
     "metadata": {},
     "output_type": "execute_result"
    },
    {
     "data": {
      "text/plain": [
       "<IPython.core.display.Javascript object>"
      ]
     },
     "execution_count": 0,
     "metadata": {},
     "output_type": "execute_result"
    },
    {
     "data": {
      "text/html": [
       "<div id='975ba648-529e-4e36-92b2-a0590ec8634b'></div>"
      ],
      "text/plain": [
       "<div id='975ba648-529e-4e36-92b2-a0590ec8634b'></div>"
      ]
     },
     "execution_count": 0,
     "metadata": {},
     "output_type": "execute_result"
    },
    {
     "data": {
      "text/plain": [
       "<mpl_toolkits.mplot3d.art3d.Poly3DCollection at 0x1c1db02d68>"
      ]
     },
     "execution_count": 88,
     "metadata": {},
     "output_type": "execute_result"
    },
    {
     "data": {
      "text/plain": [
       "<IPython.core.display.Javascript object>"
      ]
     },
     "execution_count": 0,
     "metadata": {},
     "output_type": "execute_result"
    },
    {
     "data": {
      "text/html": [
       "<div id='a7d20957-9296-498b-969e-1783b88f0b90'></div>"
      ],
      "text/plain": [
       "<div id='a7d20957-9296-498b-969e-1783b88f0b90'></div>"
      ]
     },
     "execution_count": 0,
     "metadata": {},
     "output_type": "execute_result"
    },
    {
     "data": {
      "text/plain": [
       "<IPython.core.display.Javascript object>"
      ]
     },
     "execution_count": 0,
     "metadata": {},
     "output_type": "execute_result"
    },
    {
     "data": {
      "text/html": [
       "<div id='871f16d2-3175-4797-951f-9e59bcd1829a'></div>"
      ],
      "text/plain": [
       "<div id='871f16d2-3175-4797-951f-9e59bcd1829a'></div>"
      ]
     },
     "execution_count": 0,
     "metadata": {},
     "output_type": "execute_result"
    }
   ],
   "source": [
    "fmetar = np.zeros((len(lo.y_train), 9))\n",
    "fmetar[::24][range(len(fmetar[::24])), lo.y_train.astype(int)[::24]] = 1\n",
    "\n",
    "alpha = np.log(1 - 1 / fmetar.shape[1])\n",
    "dfactor = np.exp(-1 / 2 * np.arange(0, 24) + alpha) + 1 / fmetar.shape[1]\n",
    "plt.plot(dfactor)\n",
    "\n",
    "for i, d in enumerate(dfactor):\n",
    "    if i:\n",
    "        for j, init_v in enumerate(fmetar[::24]):\n",
    "            if j < len(fmetar[i::24]):\n",
    "                fmetar[i::24][j] = fmetar[::24][j]\n",
    "\n",
    "    fmetar[i::24] *= d\n",
    "    fmetar[i::24][fmetar[i::24] == 0] = (1 - d) / 8\n",
    "\n",
    "x = np.linspace(0, 9, 9)\n",
    "y = np.linspace(0, 24, 24)\n",
    "x, y = np.meshgrid(x, y)\n",
    "\n",
    "fig = plt.figure(figsize=(4, 4))\n",
    "ax = Axes3D(fig)\n",
    "ax.plot_surface(x, y, fmetar[0:24])\n"
   ]
  },
  {
   "cell_type": "code",
   "execution_count": null,
   "metadata": {},
   "outputs": [],
   "source": []
  },
  {
   "cell_type": "code",
   "execution_count": 39,
   "metadata": {
    "collapsed": true
   },
   "outputs": [],
   "source": [
    "vis_level_o1 = []\n",
    "vis_level_u1 = []\n",
    "for i in range(len(X_train_0102)):\n",
    "    X_train_0102, y_train_0102 = skyds.convert.balanced(\n",
    "        spX_train_norm[month_keys[0]],\n",
    "        spy_train[month_keys[0]]\n",
    "    )\n",
    "    # X_test_0102, y_test_0102 = spX_test_norm[month_keys[0]], spy_test[month_keys[0]]\n",
    "\n",
    "    X_train_0102 = npd.NWPFrame(X_train_0102)\n",
    "    # X_test_0102 = npd.NWPFrame(X_test_0102)\n",
    "\n",
    "    rela_keys = X_train_0102.match_keys('Rela')\n",
    "    rela = X_train_0102[rela_keys].loc[i].values\n",
    "\n",
    "    X_train_0102.conv(kernel=np.ones((1, 2)) / 2, mode='same', axis=1, pattern='Rela', inplace=True)\n",
    "    conv_rela_keys = X_train_0102.match_keys('conv')\n",
    "    conv_rela = X_train_0102[conv_rela_keys].loc[i].values\n",
    "\n",
    "    if conv.mean() > 1:\n",
    "        vis_level_o1.append(y_train_0102[i])\n",
    "    else:\n",
    "        vis_level_u1.append(y_train_0102[i])\n",
    "\n",
    "# plt.figure()\n",
    "# plt.text(0, rela.max() / 2, '%d, %f, %f' % (y_train_0102[i], rela.mean(), conv_rela.mean()), fontsize=16)\n",
    "# plt.plot(rela)\n",
    "# plt.plot(conv_rela)\n"
   ]
  },
  {
   "cell_type": "code",
   "execution_count": 35,
   "metadata": {},
   "outputs": [
    {
     "data": {
      "text/plain": [
       "<matplotlib.figure.Figure at 0x1a1a3c4ba8>"
      ]
     },
     "execution_count": 35,
     "metadata": {},
     "output_type": "execute_result"
    },
    {
     "data": {
      "text/plain": [
       "(array([ 19.,  18.,  11.,  14.,  14.,  20.,   3.,   8.,   3.]),\n array([ 0.        ,  0.88888889,  1.77777778,  2.66666667,  3.55555556,\n         4.44444444,  5.33333333,  6.22222222,  7.11111111,  8.        ]),\n <a list of 9 Patch objects>)"
      ]
     },
     "execution_count": 35,
     "metadata": {},
     "output_type": "execute_result"
    },
    {
     "data": {
      "text/plain": [
       "<matplotlib.figure.Figure at 0x1a1672b9b0>"
      ]
     },
     "execution_count": 35,
     "metadata": {},
     "output_type": "execute_result"
    },
    {
     "data": {
      "text/plain": [
       "(array([ 62.,  83.,  57.,  37.,  30.,  62.,  24.,  35.,  98.]),\n array([ 0.        ,  0.88888889,  1.77777778,  2.66666667,  3.55555556,\n         4.44444444,  5.33333333,  6.22222222,  7.11111111,  8.        ]),\n <a list of 9 Patch objects>)"
      ]
     },
     "execution_count": 35,
     "metadata": {},
     "output_type": "execute_result"
    },
    {
     "data": {
      "image/png": "[encoded data removed]",
      "text/plain": [
       "<matplotlib.figure.Figure at 0x1a1a3c4ba8>"
      ]
     },
     "metadata": {},
     "output_type": "display_data"
    },
    {
     "data": {
      "image/png": "[encoded data removed]",
      "text/plain": [
       "<matplotlib.figure.Figure at 0x1a1672b9b0>"
      ]
     },
     "metadata": {},
     "output_type": "display_data"
    }
   ],
   "source": [
    "plt.figure()\n",
    "plt.hist(vis_level_o1, bins=9)\n",
    "\n",
    "plt.figure()\n",
    "plt.hist(vis_level_u1, bins=9)"
   ]
  },
  {
   "cell_type": "code",
   "execution_count": null,
   "metadata": {},
   "outputs": [],
   "source": []
  }
 ],
 "metadata": {
  "kernelspec": {
   "display_name": "Python 3",
   "language": "python",
   "name": "python3"
  },
  "language_info": {
   "codemirror_mode": {
    "name": "ipython",
    "version": 3
   },
   "file_extension": ".py",
   "mimetype": "text/x-python",
   "name": "python",
   "nbconvert_exporter": "python",
   "pygments_lexer": "ipython3",
   "version": "3.6.4"
  }
 },
 "nbformat": 4,
 "nbformat_minor": 1
}
